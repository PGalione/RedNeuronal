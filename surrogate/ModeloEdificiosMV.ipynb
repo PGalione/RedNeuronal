{
 "cells": [
  {
   "attachments": {},
   "cell_type": "markdown",
   "metadata": {},
   "source": [
    "## Import libraries"
   ]
  },
  {
   "cell_type": "code",
   "execution_count": 1,
   "metadata": {},
   "outputs": [],
   "source": [
    "import torch\n",
    "from torch.utils.data import Dataset, DataLoader, TensorDataset\n",
    "import pandas as pd\n",
    "import numpy as np\n",
    "import matplotlib.pyplot as plt\n",
    "from tqdm import tqdm\n",
    "import torch.nn as nn"
   ]
  },
  {
   "attachments": {},
   "cell_type": "markdown",
   "metadata": {},
   "source": [
    "## Dataset class inheritance from torch `Dataset` class    "
   ]
  },
  {
   "cell_type": "code",
   "execution_count": 16,
   "metadata": {},
   "outputs": [],
   "source": [
    "\"Header: 1:Abs,2:Espesor,3:Ref,4:Cal\"\n",
    "class buildingDataset(Dataset):\n",
    "    def __init__(self, csv_file):\n",
    "        # Ignore header\n",
    "        self.data = pd.read_csv(csv_file, header=0)\n",
    "        self.root = csv_file\n",
    "        self.len = self.data.shape[0]\n",
    "    def __getitem__(self, index):\n",
    "        return torch.tensor(self.data.iloc[index, :].values, dtype=torch.float)\n",
    "    def __len__(self):\n",
    "        return self.len"
   ]
  },
  {
   "attachments": {},
   "cell_type": "markdown",
   "metadata": {},
   "source": [
    "## Model Class"
   ]
  },
  {
   "cell_type": "code",
   "execution_count": 26,
   "metadata": {},
   "outputs": [],
   "source": [
    "# Creating the model\n",
    "class MLP(nn.Module):\n",
    "    def __init__(self, input_dim=2, output_dim=2, hidden_layers=[32, 32]):\n",
    "        super().__init__()\n",
    "        self.input_dim = input_dim\n",
    "        self.output_dim = output_dim\n",
    "        self.hidden_layers = hidden_layers\n",
    "\n",
    "        layers = []\n",
    "        prev_layer_size = input_dim\n",
    "        for layer_size in hidden_layers:\n",
    "            layers.append(nn.Linear(prev_layer_size, layer_size))\n",
    "            layers.append(nn.ReLU())\n",
    "            prev_layer_size = layer_size\n",
    "        layers.append(nn.Linear(prev_layer_size, output_dim))\n",
    "        self.layers = nn.Sequential(*layers)\n",
    "        self.optimizer = torch.optim.Adam(self.parameters(), lr=5e-3)\n",
    "        self.criterion = nn.MSELoss()\n",
    "\n",
    "        self.loss = []\n",
    "        self.loss_val = []\n",
    "\n",
    "\n",
    "        self.index_features = [0,1] # features input is in data frame \n",
    "        self.index_labels = [2,3] # label output in data frame \n",
    "\n",
    "        # if torch.cuda.is_available():\n",
    "        #     self.device = torch.device('cuda')\n",
    "        # else:\n",
    "        #     self.device = torch.device('cpu')\n",
    "        self.device = torch.device('cpu')\n",
    "\n",
    "    def forward(self, x):\n",
    "        return self.layers(x)\n",
    "\n",
    "    \"\"\" Trains the model \"\"\"\n",
    "    def train(self, train_loader, val_loader, optimizer=None, criterion=None, num_epochs=2000, verbose=False):\n",
    "        if optimizer is None:\n",
    "            optimizer = self.optimizer\n",
    "        if criterion is None:\n",
    "            criterion = self.criterion\n",
    "        \n",
    "        for epoch in tqdm(range(num_epochs)):\n",
    "            train_loss = 0.0\n",
    "            for _, data in enumerate(train_loader):\n",
    "                data = data.to(self.device)\n",
    "                optimizer.zero_grad()\n",
    "                predicted = self(data[:, self.index_features])\n",
    "                ground_truths = data[:, self.index_labels] \n",
    "                loss = criterion(predicted, ground_truths)\n",
    "                loss.backward()\n",
    "                optimizer.step()\n",
    "                train_loss += loss.item()\n",
    "\n",
    "            train_loss /= len(train_loader)\n",
    "            val_loss = self.evaluate(val_loader, criterion)\n",
    "            tqdm.write(f\"Epoch: {epoch}, Train Loss: {train_loss}, Val Loss: {val_loss}\") if verbose else None\n",
    "\n",
    "            self.loss.append(train_loss)\n",
    "            self.loss_val.append(val_loss)\n",
    "\n",
    "    \"\"\"Computes the loss on a generic dataset \"\"\"    \n",
    "    def evaluate(self, loader, criterion):\n",
    "        val_loss = 0.0\n",
    "        with torch.no_grad():\n",
    "            for data in loader:\n",
    "                data = data.to(self.device)\n",
    "                predicted = self(data[:, self.index_features])\n",
    "                ground_truths = data[:, self.index_labels] # ux,uy,uz\n",
    "                loss = criterion(predicted, ground_truths)\n",
    "                val_loss += loss.item()\n",
    "        val_loss /= len(loader)\n",
    "        return val_loss\n",
    "    \n",
    "    \"\"\" Compte the loss on the null model  \"\"\"\n",
    "    def evaluate_null(self, loader, criterion):\n",
    "        baseline_loss = 0.0\n",
    "        with torch.no_grad():\n",
    "            for data in loader:\n",
    "                data = data.to(self.device)\n",
    "                predicted = torch.zeros_like(data[:, self.index_labels])\n",
    "                ground_truths = data[:, self.index_labels]\n",
    "                loss = criterion(predicted, ground_truths)\n",
    "                baseline_loss += loss.item()\n",
    "            \n",
    "        baseline_loss /= len(loader)\n",
    "        return baseline_loss"
   ]
  },
  {
   "cell_type": "markdown",
   "metadata": {},
   "source": [
    "## Evaluate the model"
   ]
  },
  {
   "cell_type": "code",
   "execution_count": 33,
   "metadata": {},
   "outputs": [
    {
     "name": "stderr",
     "output_type": "stream",
     "text": [
      "100%|██████████| 50000/50000 [02:18<00:00, 360.66it/s]\n"
     ]
    },
    {
     "data": {
      "image/png": "[encoded data removed]",
      "text/plain": [
       "<Figure size 800x550 with 1 Axes>"
      ]
     },
     "metadata": {},
     "output_type": "display_data"
    },
    {
     "name": "stdout",
     "output_type": "stream",
     "text": [
      "Train loss:  22.42913246154785\n",
      "Validation loss:  2225.974853515625\n",
      "Test loss:  3908.1259765625\n",
      "Baseline loss:  354596.625\n",
      "Train Relative loss:  6.325252661823234e-05\n",
      "Validation Relative loss:  0.006277484602442635\n",
      "Test Relative loss:  0.0110213287466075\n"
     ]
    }
   ],
   "source": [
    "# Loading the data\n",
    "dataset = buildingDataset(\"./datosPrueba1.csv\")\n",
    "\n",
    "train_size = int(0.7 * len(dataset))\n",
    "val_size = int(0.1 * len(dataset))\n",
    "test_size = len(dataset) - train_size - val_size\n",
    "train_dataset, val_dataset, test_dataset = torch.utils.data.random_split(dataset, [train_size, val_size, test_size])\n",
    "\n",
    "# Creating data loaders\n",
    "batch_size = 1000\n",
    "train_loader = DataLoader(train_dataset, batch_size=batch_size, shuffle=True)\n",
    "val_loader = DataLoader(val_dataset, batch_size=batch_size, shuffle=True)\n",
    "test_loader = DataLoader(test_dataset, batch_size=batch_size, shuffle=True)\n",
    "\n",
    "\n",
    "# Print a summary of a dataset \n",
    "\n",
    "# Defining the model\n",
    "mlp = MLP()\n",
    "# Training the model\n",
    "mlp.train(train_loader =train_loader, val_loader=val_loader, num_epochs=50000) \n",
    "\n",
    "# ## Plotting the loss\n",
    "plt.style.use(\"seaborn-v0_8\")\n",
    "plt.semilogy(mlp.loss, label='Training Loss', marker='o')\n",
    "plt.semilogy(mlp.loss_val, label='Validation Loss', marker='s')\n",
    "plt.legend()\n",
    "plt.xlabel('Epoch')\n",
    "plt.ylabel('Loss')\n",
    "plt.title('Training Loss and Validation Loss')\n",
    "plt.show()\n",
    "\n",
    "# #save the image\n",
    "# plt.savefig('./loss.png')\n",
    "\n",
    "# # Evaluate test loss\n",
    "test_loss = mlp.evaluate(test_loader, mlp.criterion) \n",
    "# Print the final losses \n",
    "print('Train loss: ', mlp.loss[-1])\n",
    "print('Validation loss: ', mlp.loss_val[-1])\n",
    "print('Test loss: ', test_loss)\n",
    "\n",
    "# # Compute baseline loss\n",
    "baseline_loss = mlp.evaluate_null(test_loader, mlp.criterion)\n",
    "print('Baseline loss: ', baseline_loss)\n",
    "\n",
    "# Print relative losses\n",
    "print('Train Relative loss: ', mlp.loss[-1]/baseline_loss)\n",
    "print('Validation Relative loss: ', mlp.loss_val[-1]/baseline_loss)\n",
    "print('Test Relative loss: ', test_loss/baseline_loss)"
   ]
  }
 ],
 "metadata": {
  "kernelspec": {
   "display_name": "Python 3",
   "language": "python",
   "name": "python3"
  },
  "language_info": {
   "codemirror_mode": {
    "name": "ipython",
    "version": 3
   },
   "file_extension": ".py",
   "mimetype": "text/x-python",
   "name": "python",
   "nbconvert_exporter": "python",
   "pygments_lexer": "ipython3",
   "version": "3.10.10"
  },
  "orig_nbformat": 4,
  "vscode": {
   "interpreter": {
    "hash": "e7370f93d1d0cde622a1f8e1c04877d8463912d04d973331ad4851f04de6915a"
   }
  }
 },
 "nbformat": 4,
 "nbformat_minor": 2
}
