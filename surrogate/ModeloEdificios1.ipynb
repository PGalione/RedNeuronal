{
 "cells": [
  {
   "cell_type": "markdown",
   "id": "8a3b4035",
   "metadata": {},
   "source": [
    "# Problem statement"
   ]
  },
  {
   "cell_type": "markdown",
   "id": "e4e4f714",
   "metadata": {},
   "source": [
    "### Equation problem\n",
    "\n"
   ]
  },
  {
   "cell_type": "markdown",
   "id": "b08d8bcc",
   "metadata": {},
   "source": [
    "# Import libraries "
   ]
  },
  {
   "cell_type": "code",
   "execution_count": 1,
   "id": "71395d7e",
   "metadata": {},
   "outputs": [],
   "source": [
    "import torch\n",
    "import imageio\n",
    "import torch.nn as nn\n",
    "from torch.autograd import Variable\n",
    "from torch.optim import Adam\n",
    "from torch.utils.data import Dataset, DataLoader\n",
    "import numpy as np\n",
    "import pandas as pd\n",
    "from sklearn.model_selection import train_test_split\n",
    "from matplotlib import pyplot as plt\n",
    "import time"
   ]
  },
  {
   "cell_type": "markdown",
   "id": "3417711f",
   "metadata": {},
   "source": [
    "## Device and random seed"
   ]
  },
  {
   "cell_type": "code",
   "execution_count": 2,
   "id": "397bf979",
   "metadata": {},
   "outputs": [
    {
     "name": "stdout",
     "output_type": "stream",
     "text": [
      "Device used: cpu\n"
     ]
    },
    {
     "data": {
      "text/plain": [
       "<torch._C.Generator at 0x7ffa48121970>"
      ]
     },
     "execution_count": 2,
     "metadata": {},
     "output_type": "execute_result"
    }
   ],
   "source": [
    "device = torch.device('cuda' if torch.cuda.is_available() else 'cpu')\n",
    "print(f\"Device used: {device}\")\n",
    "random_seed = 1234\n",
    "torch.manual_seed(random_seed)"
   ]
  },
  {
   "cell_type": "markdown",
   "id": "633c3424",
   "metadata": {},
   "source": [
    "## Load Data"
   ]
  },
  {
   "cell_type": "code",
   "execution_count": 98,
   "id": "f17db974",
   "metadata": {},
   "outputs": [
    {
     "name": "stdout",
     "output_type": "stream",
     "text": [
      "X_test information:\n",
      "the size of X_test is 16\n",
      "the shape of X_test is (8, 2)\n",
      "X_train information:\n",
      "the size of X_train is 56\n",
      "the shape of X_train is (28, 2)\n",
      "Y_train information:\n",
      "the size of Y_train is 56\n",
      "the shape of Y_train is (28, 2)\n",
      "Y_test information:\n",
      "the size of Y_test is 16\n",
      "the shape of Y_test is (8, 2)\n"
     ]
    }
   ],
   "source": [
    "## Load dataset\n",
    "relative_csv_path = \"./datosPrueba1.csv\"\n",
    "# relative_csv_path = \"./datosPrueba1_reducido.csv\"\n",
    "split_ratio = 0.2\n",
    "\n",
    "# Load different parameters and energy results\n",
    "fields_X = ['Abs', 'Espesor']\n",
    "fields_En = ['Ref', 'Cal']\n",
    "fields = fields_X + fields_En\n",
    "df = pd.read_csv(relative_csv_path, skipinitialspace=True, usecols=fields)\n",
    "df_train, df_test = train_test_split(df, test_size = split_ratio, random_state=random_seed)\n",
    "\n",
    "# Convert into numpy arrays\n",
    "X_train, Y_train = (df_train[fields_X].to_numpy(), df_train[fields_En].to_numpy())\n",
    "X_test, Y_test = (df_test[fields_X].to_numpy(), df_test[fields_En].to_numpy())\n",
    "\n",
    "# Print shapes\n",
    "print(\"X_test information:\")\n",
    "print(\"the size of X_test is\", X_test.size)\n",
    "print(\"the shape of X_test is\", X_test.shape)\n",
    "\n",
    "print(\"X_train information:\")\n",
    "print(\"the size of X_train is\", X_train.size)\n",
    "print(\"the shape of X_train is\", X_train.shape)\n",
    "\n",
    "print(\"Y_train information:\")\n",
    "print(\"the size of Y_train is\", Y_train.size)\n",
    "print(\"the shape of Y_train is\", Y_train.shape)\n",
    "\n",
    "print(\"Y_test information:\")\n",
    "print(\"the size of Y_test is\", Y_test.size)\n",
    "print(\"the shape of Y_test is\", Y_test.shape)"
   ]
  },
  {
   "cell_type": "code",
   "execution_count": 66,
   "id": "30eb150c",
   "metadata": {},
   "outputs": [
    {
     "data": {
      "text/plain": [
       "array([[0.3 , 0.08],\n",
       "       [0.7 , 0.15],\n",
       "       [0.4 , 0.05],\n",
       "       [0.2 , 0.05],\n",
       "       [0.2 , 0.13],\n",
       "       [0.7 , 0.05],\n",
       "       [0.4 , 0.08],\n",
       "       [0.6 , 0.1 ]])"
      ]
     },
     "execution_count": 66,
     "metadata": {},
     "output_type": "execute_result"
    }
   ],
   "source": [
    "X_train\n",
    "# relative_csv_path\n",
    "X_test"
   ]
  },
  {
   "cell_type": "markdown",
   "id": "8efa7b1e",
   "metadata": {},
   "source": [
    "## Plot Data "
   ]
  },
  {
   "cell_type": "code",
   "execution_count": 5,
   "id": "bcdb8db3",
   "metadata": {},
   "outputs": [],
   "source": [
    "def plot_X_vs_Y(X_train, Y_train, fig_name, num_sample_plots = 15, label_size = 14, marker_size = 5):\n",
    "    \"\"\"\n",
    "    Function to plot some X vs Y .\n",
    "\n",
    "    Parameters:\n",
    "      X_train (ndarray):      Xtrain data set.\n",
    "      Y_train (ndarray):      Y_train data set.\n",
    "      fig_name (string):      figure name.\n",
    "      num_sample_plots (int): number of samples to plot.\n",
    "      label_size(int):        xtics and legend label size.\n",
    "      marker_size(int):       xticks and legend marker size.\n",
    "    \"\"\"        \n",
    "\n",
    "    ## Make a subplot with 2 figures\n",
    "    fig, ax = plt.subplots(1, 2, figsize=(15, 7))\n",
    "\n",
    "    # Plot the first figure [thteta1, ..., theta9] vs G\n",
    "    aux_ones = np.ones((X_train.shape[1],))\n",
    "    samples_plotted = []\n",
    "\n",
    "    while len(samples_plotted) <= num_sample_plots:\n",
    "        sample_picked = np.random.randint(0, X_train.shape[0])\n",
    "        if sample_picked not in samples_plotted:\n",
    "            G_sample = Y_train[sample_picked]\n",
    "            Y_plot = G_sample * aux_ones\n",
    "            label = 'G = %.2f' %  Y_train[sample_picked]\n",
    "            ax[0].scatter(X_train[sample_picked,:], Y_plot, label = label, s = marker_size + 2)\n",
    "            samples_plotted.append(sample_picked)\n",
    "\n",
    "        if X_train.mean() <=10:\n",
    "            ax[0].set_xlabel(r'$[\\theta_1,... \\theta_9]$', fontsize = 1.8*label_size)\n",
    "        else:\n",
    "            ax[0].set_xlabel(r'$[T_1,... T_9]$', fontsize = 1.8*label_size)\n",
    "            \n",
    "        ax[0].set_ylabel(r'$G$', fontsize = 1.8*label_size)\n",
    "        ax[0].tick_params(axis='both', which='major', labelsize=label_size)\n",
    "        ax[0].legend(fontsize = .6*label_size)\n",
    "        ax[0].grid(True, which=\"both\", ls=\"-\")\n",
    "\n",
    "\n",
    "    # Plot the second figure theta vs x\n",
    "    samples_plotted = []\n",
    "\n",
    "    for i in range(num_sample_plots):\n",
    "        sample_picked = np.random.randint(0, X_train.shape[1]) \n",
    "        if sample_picked not in samples_plotted:\n",
    "            label = 'G = %.2f' %  Y_train[sample_picked]\n",
    "            # create a range with interval and number of points \n",
    "            aux_x = np.linspace(0, 1, X_train.shape[1])\n",
    "            ax[1].plot(aux_x, X_train[sample_picked,:],label=label)\n",
    "\n",
    "    ax[1].set_ylabel(r'$\\theta$', fontsize = 1.8*label_size)\n",
    "    ax[1].set_xlabel(r'$x*$', fontsize = 1.8*label_size)\n",
    "    ax[1].tick_params(axis='both', which='major', labelsize=label_size)\n",
    "    ax[1].legend(fontsize = .6*label_size)\n",
    "    ax[1].grid(True, which=\"both\", ls=\"-\")\n",
    "\n",
    "\n",
    "    # Save and show thefigure\n",
    "    fig.savefig(fig_name, bbox_inches='tight')\n",
    "    plt.show()"
   ]
  },
  {
   "cell_type": "markdown",
   "id": "a2adbc78",
   "metadata": {},
   "source": [
    "### Normalization $\\overline{\\theta[i,j]} = 2\\frac{\\theta[i,j] \\min(\\theta[:,j]) }{\\max(\\theta[:,j]) - \\min(\\theta[:,j]) } - 1$ functions:"
   ]
  },
  {
   "cell_type": "code",
   "execution_count": 6,
   "id": "430f1efe",
   "metadata": {},
   "outputs": [],
   "source": [
    "def normalize_ij(xi, xmin, xmax):\n",
    "    \"Function to normalize a value xi given xmax and xmin boundaries\"\n",
    "    return 2 * (xi - xmin) / (xmax - xmin) - 1\n",
    "\n",
    "def normalize(X_array, min_X_cols, max_X_cols):\n",
    "    \"\"\"\n",
    "    Normalize an array by columns given a max and min of each column.\n",
    "    \n",
    "    Parameters:\n",
    "    X_array(numpy array): Array to be normalized.\n",
    "    \"\"\"\n",
    "    # Normalize input vector X by each feature\n",
    "    (num_row_X, num_col_X) = X_array.shape\n",
    "    normalized_X_array = np.zeros_like(X_array)\n",
    "    \n",
    "    # Fill the copy vector\n",
    "    for col in range(num_col_X): \n",
    "      for row in range(num_row_X):\n",
    "        normalized_X_array[row,col] = normalize_ij(X_array[row,col], min_X_cols[col], max_X_cols[col])\n",
    "        \n",
    "    return normalized_X_array\n",
    "\n",
    "def max_min_by_columns(X_array):\n",
    "    # Compute the min max vector\n",
    "    (num_row_X, num_col_X) = X_array.shape\n",
    "    min_col_X = [np.min(X_array[:,col_X]) for col_X in range(num_col_X)]\n",
    "    max_col_X = [np.max(X_array[:,col_X]) for col_X in range(num_col_X)]\n",
    "    return min_col_X, max_col_X "
   ]
  },
  {
   "cell_type": "markdown",
   "id": "4e428a59",
   "metadata": {},
   "source": [
    "### Plot $T(x)$ and $[T_1, ..., T_9]$ for different $G$ values"
   ]
  },
  {
   "cell_type": "code",
   "execution_count": 41,
   "id": "c85abcca",
   "metadata": {},
   "outputs": [
    {
     "ename": "KeyboardInterrupt",
     "evalue": "",
     "output_type": "error",
     "traceback": [
      "\u001b[0;31m---------------------------------------------------------------------------\u001b[0m",
      "\u001b[0;31mKeyboardInterrupt\u001b[0m                         Traceback (most recent call last)",
      "\u001b[0;32m/tmp/ipykernel_7286/1802493104.py\u001b[0m in \u001b[0;36m<module>\u001b[0;34m\u001b[0m\n\u001b[1;32m      1\u001b[0m \u001b[0mX_train\u001b[0m\u001b[0;34m\u001b[0m\u001b[0;34m\u001b[0m\u001b[0m\n\u001b[1;32m      2\u001b[0m \u001b[0mY_train\u001b[0m\u001b[0;34m[\u001b[0m\u001b[0;34m:\u001b[0m\u001b[0;34m,\u001b[0m\u001b[0;36m0\u001b[0m\u001b[0;34m]\u001b[0m\u001b[0;34m\u001b[0m\u001b[0;34m\u001b[0m\u001b[0m\n\u001b[0;32m----> 3\u001b[0;31m \u001b[0mplot_X_vs_Y\u001b[0m\u001b[0;34m(\u001b[0m\u001b[0mX_train\u001b[0m\u001b[0;34m,\u001b[0m \u001b[0mY_train\u001b[0m\u001b[0;34m[\u001b[0m\u001b[0;34m:\u001b[0m\u001b[0;34m,\u001b[0m\u001b[0;36m0\u001b[0m\u001b[0;34m]\u001b[0m\u001b[0;34m,\u001b[0m \u001b[0;34m'./figures/X_vs_Y.png'\u001b[0m\u001b[0;34m)\u001b[0m\u001b[0;34m\u001b[0m\u001b[0;34m\u001b[0m\u001b[0m\n\u001b[0m",
      "\u001b[0;32m/tmp/ipykernel_7286/1971645289.py\u001b[0m in \u001b[0;36mplot_X_vs_Y\u001b[0;34m(X_train, Y_train, fig_name, num_sample_plots, label_size, marker_size)\u001b[0m\n\u001b[1;32m     34\u001b[0m \u001b[0;34m\u001b[0m\u001b[0m\n\u001b[1;32m     35\u001b[0m         \u001b[0max\u001b[0m\u001b[0;34m[\u001b[0m\u001b[0;36m0\u001b[0m\u001b[0;34m]\u001b[0m\u001b[0;34m.\u001b[0m\u001b[0mset_ylabel\u001b[0m\u001b[0;34m(\u001b[0m\u001b[0;34mr'$G$'\u001b[0m\u001b[0;34m,\u001b[0m \u001b[0mfontsize\u001b[0m \u001b[0;34m=\u001b[0m \u001b[0;36m1.8\u001b[0m\u001b[0;34m*\u001b[0m\u001b[0mlabel_size\u001b[0m\u001b[0;34m)\u001b[0m\u001b[0;34m\u001b[0m\u001b[0;34m\u001b[0m\u001b[0m\n\u001b[0;32m---> 36\u001b[0;31m         \u001b[0max\u001b[0m\u001b[0;34m[\u001b[0m\u001b[0;36m0\u001b[0m\u001b[0;34m]\u001b[0m\u001b[0;34m.\u001b[0m\u001b[0mtick_params\u001b[0m\u001b[0;34m(\u001b[0m\u001b[0maxis\u001b[0m\u001b[0;34m=\u001b[0m\u001b[0;34m'both'\u001b[0m\u001b[0;34m,\u001b[0m \u001b[0mwhich\u001b[0m\u001b[0;34m=\u001b[0m\u001b[0;34m'major'\u001b[0m\u001b[0;34m,\u001b[0m \u001b[0mlabelsize\u001b[0m\u001b[0;34m=\u001b[0m\u001b[0mlabel_size\u001b[0m\u001b[0;34m)\u001b[0m\u001b[0;34m\u001b[0m\u001b[0;34m\u001b[0m\u001b[0m\n\u001b[0m\u001b[1;32m     37\u001b[0m         \u001b[0max\u001b[0m\u001b[0;34m[\u001b[0m\u001b[0;36m0\u001b[0m\u001b[0;34m]\u001b[0m\u001b[0;34m.\u001b[0m\u001b[0mlegend\u001b[0m\u001b[0;34m(\u001b[0m\u001b[0mfontsize\u001b[0m \u001b[0;34m=\u001b[0m \u001b[0;36m.6\u001b[0m\u001b[0;34m*\u001b[0m\u001b[0mlabel_size\u001b[0m\u001b[0;34m)\u001b[0m\u001b[0;34m\u001b[0m\u001b[0;34m\u001b[0m\u001b[0m\n\u001b[1;32m     38\u001b[0m         \u001b[0max\u001b[0m\u001b[0;34m[\u001b[0m\u001b[0;36m0\u001b[0m\u001b[0;34m]\u001b[0m\u001b[0;34m.\u001b[0m\u001b[0mgrid\u001b[0m\u001b[0;34m(\u001b[0m\u001b[0;32mTrue\u001b[0m\u001b[0;34m,\u001b[0m \u001b[0mwhich\u001b[0m\u001b[0;34m=\u001b[0m\u001b[0;34m\"both\"\u001b[0m\u001b[0;34m,\u001b[0m \u001b[0mls\u001b[0m\u001b[0;34m=\u001b[0m\u001b[0;34m\"-\"\u001b[0m\u001b[0;34m)\u001b[0m\u001b[0;34m\u001b[0m\u001b[0;34m\u001b[0m\u001b[0m\n",
      "\u001b[0;32m~/anaconda3/lib/python3.9/site-packages/matplotlib/axes/_base.py\u001b[0m in \u001b[0;36mtick_params\u001b[0;34m(self, axis, **kwargs)\u001b[0m\n\u001b[1;32m   3433\u001b[0m             \u001b[0mykw\u001b[0m\u001b[0;34m.\u001b[0m\u001b[0mpop\u001b[0m\u001b[0;34m(\u001b[0m\u001b[0;34m'labeltop'\u001b[0m\u001b[0;34m,\u001b[0m \u001b[0;32mNone\u001b[0m\u001b[0;34m)\u001b[0m\u001b[0;34m\u001b[0m\u001b[0;34m\u001b[0m\u001b[0m\n\u001b[1;32m   3434\u001b[0m             \u001b[0mykw\u001b[0m\u001b[0;34m.\u001b[0m\u001b[0mpop\u001b[0m\u001b[0;34m(\u001b[0m\u001b[0;34m'labelbottom'\u001b[0m\u001b[0;34m,\u001b[0m \u001b[0;32mNone\u001b[0m\u001b[0;34m)\u001b[0m\u001b[0;34m\u001b[0m\u001b[0;34m\u001b[0m\u001b[0m\n\u001b[0;32m-> 3435\u001b[0;31m             \u001b[0mself\u001b[0m\u001b[0;34m.\u001b[0m\u001b[0myaxis\u001b[0m\u001b[0;34m.\u001b[0m\u001b[0mset_tick_params\u001b[0m\u001b[0;34m(\u001b[0m\u001b[0;34m**\u001b[0m\u001b[0mykw\u001b[0m\u001b[0;34m)\u001b[0m\u001b[0;34m\u001b[0m\u001b[0;34m\u001b[0m\u001b[0m\n\u001b[0m\u001b[1;32m   3436\u001b[0m \u001b[0;34m\u001b[0m\u001b[0m\n\u001b[1;32m   3437\u001b[0m     \u001b[0;32mdef\u001b[0m \u001b[0mset_axis_off\u001b[0m\u001b[0;34m(\u001b[0m\u001b[0mself\u001b[0m\u001b[0;34m)\u001b[0m\u001b[0;34m:\u001b[0m\u001b[0;34m\u001b[0m\u001b[0;34m\u001b[0m\u001b[0m\n",
      "\u001b[0;32m~/anaconda3/lib/python3.9/site-packages/matplotlib/axis.py\u001b[0m in \u001b[0;36mset_tick_params\u001b[0;34m(self, which, reset, **kw)\u001b[0m\n\u001b[1;32m    872\u001b[0m                 \u001b[0mself\u001b[0m\u001b[0;34m.\u001b[0m\u001b[0m_major_tick_kw\u001b[0m\u001b[0;34m.\u001b[0m\u001b[0mupdate\u001b[0m\u001b[0;34m(\u001b[0m\u001b[0mkwtrans\u001b[0m\u001b[0;34m)\u001b[0m\u001b[0;34m\u001b[0m\u001b[0;34m\u001b[0m\u001b[0m\n\u001b[1;32m    873\u001b[0m                 \u001b[0;32mfor\u001b[0m \u001b[0mtick\u001b[0m \u001b[0;32min\u001b[0m \u001b[0mself\u001b[0m\u001b[0;34m.\u001b[0m\u001b[0mmajorTicks\u001b[0m\u001b[0;34m:\u001b[0m\u001b[0;34m\u001b[0m\u001b[0;34m\u001b[0m\u001b[0m\n\u001b[0;32m--> 874\u001b[0;31m                     \u001b[0mtick\u001b[0m\u001b[0;34m.\u001b[0m\u001b[0m_apply_params\u001b[0m\u001b[0;34m(\u001b[0m\u001b[0;34m**\u001b[0m\u001b[0mkwtrans\u001b[0m\u001b[0;34m)\u001b[0m\u001b[0;34m\u001b[0m\u001b[0;34m\u001b[0m\u001b[0m\n\u001b[0m\u001b[1;32m    875\u001b[0m             \u001b[0;32mif\u001b[0m \u001b[0mwhich\u001b[0m \u001b[0;32min\u001b[0m \u001b[0;34m[\u001b[0m\u001b[0;34m'minor'\u001b[0m\u001b[0;34m,\u001b[0m \u001b[0;34m'both'\u001b[0m\u001b[0;34m]\u001b[0m\u001b[0;34m:\u001b[0m\u001b[0;34m\u001b[0m\u001b[0;34m\u001b[0m\u001b[0m\n\u001b[1;32m    876\u001b[0m                 \u001b[0mself\u001b[0m\u001b[0;34m.\u001b[0m\u001b[0m_minor_tick_kw\u001b[0m\u001b[0;34m.\u001b[0m\u001b[0mupdate\u001b[0m\u001b[0;34m(\u001b[0m\u001b[0mkwtrans\u001b[0m\u001b[0;34m)\u001b[0m\u001b[0;34m\u001b[0m\u001b[0;34m\u001b[0m\u001b[0m\n",
      "\u001b[0;32m~/anaconda3/lib/python3.9/site-packages/matplotlib/axis.py\u001b[0m in \u001b[0;36m_apply_params\u001b[0;34m(self, **kw)\u001b[0m\n\u001b[1;32m    375\u001b[0m         \u001b[0;32mif\u001b[0m \u001b[0;34m'color'\u001b[0m \u001b[0;32min\u001b[0m \u001b[0mkw\u001b[0m\u001b[0;34m:\u001b[0m\u001b[0;34m\u001b[0m\u001b[0;34m\u001b[0m\u001b[0m\n\u001b[1;32m    376\u001b[0m             \u001b[0mtick_kw\u001b[0m\u001b[0;34m[\u001b[0m\u001b[0;34m'markeredgecolor'\u001b[0m\u001b[0;34m]\u001b[0m \u001b[0;34m=\u001b[0m \u001b[0mkw\u001b[0m\u001b[0;34m[\u001b[0m\u001b[0;34m'color'\u001b[0m\u001b[0;34m]\u001b[0m\u001b[0;34m\u001b[0m\u001b[0;34m\u001b[0m\u001b[0m\n\u001b[0;32m--> 377\u001b[0;31m         \u001b[0mself\u001b[0m\u001b[0;34m.\u001b[0m\u001b[0mtick1line\u001b[0m\u001b[0;34m.\u001b[0m\u001b[0mset\u001b[0m\u001b[0;34m(\u001b[0m\u001b[0;34m**\u001b[0m\u001b[0mtick_kw\u001b[0m\u001b[0;34m)\u001b[0m\u001b[0;34m\u001b[0m\u001b[0;34m\u001b[0m\u001b[0m\n\u001b[0m\u001b[1;32m    378\u001b[0m         \u001b[0mself\u001b[0m\u001b[0;34m.\u001b[0m\u001b[0mtick2line\u001b[0m\u001b[0;34m.\u001b[0m\u001b[0mset\u001b[0m\u001b[0;34m(\u001b[0m\u001b[0;34m**\u001b[0m\u001b[0mtick_kw\u001b[0m\u001b[0;34m)\u001b[0m\u001b[0;34m\u001b[0m\u001b[0;34m\u001b[0m\u001b[0m\n\u001b[1;32m    379\u001b[0m         \u001b[0;32mfor\u001b[0m \u001b[0mk\u001b[0m\u001b[0;34m,\u001b[0m \u001b[0mv\u001b[0m \u001b[0;32min\u001b[0m \u001b[0mtick_kw\u001b[0m\u001b[0;34m.\u001b[0m\u001b[0mitems\u001b[0m\u001b[0;34m(\u001b[0m\u001b[0;34m)\u001b[0m\u001b[0;34m:\u001b[0m\u001b[0;34m\u001b[0m\u001b[0;34m\u001b[0m\u001b[0m\n",
      "\u001b[0;32m~/anaconda3/lib/python3.9/site-packages/matplotlib/artist.py\u001b[0m in \u001b[0;36m<lambda>\u001b[0;34m(self, **kwargs)\u001b[0m\n\u001b[1;32m    114\u001b[0m             \u001b[0;32mreturn\u001b[0m\u001b[0;34m\u001b[0m\u001b[0;34m\u001b[0m\u001b[0m\n\u001b[1;32m    115\u001b[0m \u001b[0;34m\u001b[0m\u001b[0m\n\u001b[0;32m--> 116\u001b[0;31m         \u001b[0mcls\u001b[0m\u001b[0;34m.\u001b[0m\u001b[0mset\u001b[0m \u001b[0;34m=\u001b[0m \u001b[0;32mlambda\u001b[0m \u001b[0mself\u001b[0m\u001b[0;34m,\u001b[0m \u001b[0;34m**\u001b[0m\u001b[0mkwargs\u001b[0m\u001b[0;34m:\u001b[0m \u001b[0mArtist\u001b[0m\u001b[0;34m.\u001b[0m\u001b[0mset\u001b[0m\u001b[0;34m(\u001b[0m\u001b[0mself\u001b[0m\u001b[0;34m,\u001b[0m \u001b[0;34m**\u001b[0m\u001b[0mkwargs\u001b[0m\u001b[0;34m)\u001b[0m\u001b[0;34m\u001b[0m\u001b[0;34m\u001b[0m\u001b[0m\n\u001b[0m\u001b[1;32m    117\u001b[0m         \u001b[0mcls\u001b[0m\u001b[0;34m.\u001b[0m\u001b[0mset\u001b[0m\u001b[0;34m.\u001b[0m\u001b[0m__name__\u001b[0m \u001b[0;34m=\u001b[0m \u001b[0;34m\"set\"\u001b[0m\u001b[0;34m\u001b[0m\u001b[0;34m\u001b[0m\u001b[0m\n\u001b[1;32m    118\u001b[0m         \u001b[0mcls\u001b[0m\u001b[0;34m.\u001b[0m\u001b[0mset\u001b[0m\u001b[0;34m.\u001b[0m\u001b[0m__qualname__\u001b[0m \u001b[0;34m=\u001b[0m \u001b[0;34mf\"{cls.__qualname__}.set\"\u001b[0m\u001b[0;34m\u001b[0m\u001b[0;34m\u001b[0m\u001b[0m\n",
      "\u001b[0;32m~/anaconda3/lib/python3.9/site-packages/matplotlib/artist.py\u001b[0m in \u001b[0;36mset\u001b[0;34m(self, **kwargs)\u001b[0m\n\u001b[1;32m   1161\u001b[0m         \u001b[0;31m# Artist._update_set_signature_and_docstring() at the end of the\u001b[0m\u001b[0;34m\u001b[0m\u001b[0;34m\u001b[0m\u001b[0m\n\u001b[1;32m   1162\u001b[0m         \u001b[0;31m# module.\u001b[0m\u001b[0;34m\u001b[0m\u001b[0;34m\u001b[0m\u001b[0m\n\u001b[0;32m-> 1163\u001b[0;31m         \u001b[0mkwargs\u001b[0m \u001b[0;34m=\u001b[0m \u001b[0mcbook\u001b[0m\u001b[0;34m.\u001b[0m\u001b[0mnormalize_kwargs\u001b[0m\u001b[0;34m(\u001b[0m\u001b[0mkwargs\u001b[0m\u001b[0;34m,\u001b[0m \u001b[0mself\u001b[0m\u001b[0;34m)\u001b[0m\u001b[0;34m\u001b[0m\u001b[0;34m\u001b[0m\u001b[0m\n\u001b[0m\u001b[1;32m   1164\u001b[0m         \u001b[0;32mreturn\u001b[0m \u001b[0mself\u001b[0m\u001b[0;34m.\u001b[0m\u001b[0mupdate\u001b[0m\u001b[0;34m(\u001b[0m\u001b[0mkwargs\u001b[0m\u001b[0;34m)\u001b[0m\u001b[0;34m\u001b[0m\u001b[0;34m\u001b[0m\u001b[0m\n\u001b[1;32m   1165\u001b[0m \u001b[0;34m\u001b[0m\u001b[0m\n",
      "\u001b[0;32m~/anaconda3/lib/python3.9/site-packages/matplotlib/cbook/__init__.py\u001b[0m in \u001b[0;36mnormalize_kwargs\u001b[0;34m(kw, alias_mapping)\u001b[0m\n\u001b[1;32m   1678\u001b[0m         \u001b[0mpassed\u001b[0m \u001b[0mto\u001b[0m \u001b[0ma\u001b[0m \u001b[0mcallable\u001b[0m\u001b[0;34m.\u001b[0m\u001b[0;34m\u001b[0m\u001b[0;34m\u001b[0m\u001b[0m\n\u001b[1;32m   1679\u001b[0m     \"\"\"\n\u001b[0;32m-> 1680\u001b[0;31m     \u001b[0;32mfrom\u001b[0m \u001b[0mmatplotlib\u001b[0m\u001b[0;34m.\u001b[0m\u001b[0martist\u001b[0m \u001b[0;32mimport\u001b[0m \u001b[0mArtist\u001b[0m\u001b[0;34m\u001b[0m\u001b[0;34m\u001b[0m\u001b[0m\n\u001b[0m\u001b[1;32m   1681\u001b[0m \u001b[0;34m\u001b[0m\u001b[0m\n\u001b[1;32m   1682\u001b[0m     \u001b[0;32mif\u001b[0m \u001b[0mkw\u001b[0m \u001b[0;32mis\u001b[0m \u001b[0;32mNone\u001b[0m\u001b[0;34m:\u001b[0m\u001b[0;34m\u001b[0m\u001b[0;34m\u001b[0m\u001b[0m\n",
      "\u001b[0;31mKeyboardInterrupt\u001b[0m: "
     ]
    },
    {
     "data": {
      "image/png": "[encoded data removed]",
      "text/plain": [
       "<Figure size 1500x700 with 2 Axes>"
      ]
     },
     "metadata": {},
     "output_type": "display_data"
    }
   ],
   "source": [
    "X_train\n",
    "Y_train[:,0]\n",
    "plot_X_vs_Y(X_train, Y_train[:,0], './figures/X_vs_Y.png') "
   ]
  },
  {
   "cell_type": "markdown",
   "id": "09fd26f5",
   "metadata": {},
   "source": [
    "## Compute $\\theta$ as: `X_train`"
   ]
  },
  {
   "cell_type": "code",
   "execution_count": 99,
   "id": "7c01754d",
   "metadata": {},
   "outputs": [
    {
     "data": {
      "text/plain": [
       "[0.7, 0.15]"
      ]
     },
     "execution_count": 99,
     "metadata": {},
     "output_type": "execute_result"
    }
   ],
   "source": [
    "# compute the min max vector\n",
    "min_X, max_X = max_min_by_columns(X_train)\n",
    "\n",
    "X_train\n",
    "# min_X\n",
    "max_X"
   ]
  },
  {
   "cell_type": "markdown",
   "id": "9af221f5",
   "metadata": {},
   "source": [
    "## G vs $[\\theta_1, \\theta_2,... \\theta_9]$ and $\\theta(x)$"
   ]
  },
  {
   "cell_type": "code",
   "execution_count": 43,
   "id": "96c15779",
   "metadata": {
    "scrolled": false
   },
   "outputs": [
    {
     "ename": "KeyboardInterrupt",
     "evalue": "",
     "output_type": "error",
     "traceback": [
      "\u001b[0;31m---------------------------------------------------------------------------\u001b[0m",
      "\u001b[0;31mKeyboardInterrupt\u001b[0m                         Traceback (most recent call last)",
      "\u001b[0;32m/tmp/ipykernel_7286/3211600269.py\u001b[0m in \u001b[0;36m<module>\u001b[0;34m\u001b[0m\n\u001b[0;32m----> 1\u001b[0;31m \u001b[0mplot_X_vs_Y\u001b[0m\u001b[0;34m(\u001b[0m\u001b[0mX_train\u001b[0m\u001b[0;34m,\u001b[0m \u001b[0mY_train\u001b[0m\u001b[0;34m[\u001b[0m\u001b[0;34m:\u001b[0m\u001b[0;34m,\u001b[0m\u001b[0;36m0\u001b[0m\u001b[0;34m]\u001b[0m\u001b[0;34m,\u001b[0m \u001b[0;34m'./X_vs_Y.png'\u001b[0m\u001b[0;34m)\u001b[0m\u001b[0;34m\u001b[0m\u001b[0;34m\u001b[0m\u001b[0m\n\u001b[0m",
      "\u001b[0;32m/tmp/ipykernel_7286/1971645289.py\u001b[0m in \u001b[0;36mplot_X_vs_Y\u001b[0;34m(X_train, Y_train, fig_name, num_sample_plots, label_size, marker_size)\u001b[0m\n\u001b[1;32m     35\u001b[0m         \u001b[0max\u001b[0m\u001b[0;34m[\u001b[0m\u001b[0;36m0\u001b[0m\u001b[0;34m]\u001b[0m\u001b[0;34m.\u001b[0m\u001b[0mset_ylabel\u001b[0m\u001b[0;34m(\u001b[0m\u001b[0;34mr'$G$'\u001b[0m\u001b[0;34m,\u001b[0m \u001b[0mfontsize\u001b[0m \u001b[0;34m=\u001b[0m \u001b[0;36m1.8\u001b[0m\u001b[0;34m*\u001b[0m\u001b[0mlabel_size\u001b[0m\u001b[0;34m)\u001b[0m\u001b[0;34m\u001b[0m\u001b[0;34m\u001b[0m\u001b[0m\n\u001b[1;32m     36\u001b[0m         \u001b[0max\u001b[0m\u001b[0;34m[\u001b[0m\u001b[0;36m0\u001b[0m\u001b[0;34m]\u001b[0m\u001b[0;34m.\u001b[0m\u001b[0mtick_params\u001b[0m\u001b[0;34m(\u001b[0m\u001b[0maxis\u001b[0m\u001b[0;34m=\u001b[0m\u001b[0;34m'both'\u001b[0m\u001b[0;34m,\u001b[0m \u001b[0mwhich\u001b[0m\u001b[0;34m=\u001b[0m\u001b[0;34m'major'\u001b[0m\u001b[0;34m,\u001b[0m \u001b[0mlabelsize\u001b[0m\u001b[0;34m=\u001b[0m\u001b[0mlabel_size\u001b[0m\u001b[0;34m)\u001b[0m\u001b[0;34m\u001b[0m\u001b[0;34m\u001b[0m\u001b[0m\n\u001b[0;32m---> 37\u001b[0;31m         \u001b[0max\u001b[0m\u001b[0;34m[\u001b[0m\u001b[0;36m0\u001b[0m\u001b[0;34m]\u001b[0m\u001b[0;34m.\u001b[0m\u001b[0mlegend\u001b[0m\u001b[0;34m(\u001b[0m\u001b[0mfontsize\u001b[0m \u001b[0;34m=\u001b[0m \u001b[0;36m.6\u001b[0m\u001b[0;34m*\u001b[0m\u001b[0mlabel_size\u001b[0m\u001b[0;34m)\u001b[0m\u001b[0;34m\u001b[0m\u001b[0;34m\u001b[0m\u001b[0m\n\u001b[0m\u001b[1;32m     38\u001b[0m         \u001b[0max\u001b[0m\u001b[0;34m[\u001b[0m\u001b[0;36m0\u001b[0m\u001b[0;34m]\u001b[0m\u001b[0;34m.\u001b[0m\u001b[0mgrid\u001b[0m\u001b[0;34m(\u001b[0m\u001b[0;32mTrue\u001b[0m\u001b[0;34m,\u001b[0m \u001b[0mwhich\u001b[0m\u001b[0;34m=\u001b[0m\u001b[0;34m\"both\"\u001b[0m\u001b[0;34m,\u001b[0m \u001b[0mls\u001b[0m\u001b[0;34m=\u001b[0m\u001b[0;34m\"-\"\u001b[0m\u001b[0;34m)\u001b[0m\u001b[0;34m\u001b[0m\u001b[0;34m\u001b[0m\u001b[0m\n\u001b[1;32m     39\u001b[0m \u001b[0;34m\u001b[0m\u001b[0m\n",
      "\u001b[0;32m~/anaconda3/lib/python3.9/site-packages/matplotlib/axes/_axes.py\u001b[0m in \u001b[0;36mlegend\u001b[0;34m(self, *args, **kwargs)\u001b[0m\n\u001b[1;32m    303\u001b[0m         \u001b[0;32mif\u001b[0m \u001b[0mlen\u001b[0m\u001b[0;34m(\u001b[0m\u001b[0mextra_args\u001b[0m\u001b[0;34m)\u001b[0m\u001b[0;34m:\u001b[0m\u001b[0;34m\u001b[0m\u001b[0;34m\u001b[0m\u001b[0m\n\u001b[1;32m    304\u001b[0m             \u001b[0;32mraise\u001b[0m \u001b[0mTypeError\u001b[0m\u001b[0;34m(\u001b[0m\u001b[0;34m'legend only accepts two non-keyword arguments'\u001b[0m\u001b[0;34m)\u001b[0m\u001b[0;34m\u001b[0m\u001b[0;34m\u001b[0m\u001b[0m\n\u001b[0;32m--> 305\u001b[0;31m         \u001b[0mself\u001b[0m\u001b[0;34m.\u001b[0m\u001b[0mlegend_\u001b[0m \u001b[0;34m=\u001b[0m \u001b[0mmlegend\u001b[0m\u001b[0;34m.\u001b[0m\u001b[0mLegend\u001b[0m\u001b[0;34m(\u001b[0m\u001b[0mself\u001b[0m\u001b[0;34m,\u001b[0m \u001b[0mhandles\u001b[0m\u001b[0;34m,\u001b[0m \u001b[0mlabels\u001b[0m\u001b[0;34m,\u001b[0m \u001b[0;34m**\u001b[0m\u001b[0mkwargs\u001b[0m\u001b[0;34m)\u001b[0m\u001b[0;34m\u001b[0m\u001b[0;34m\u001b[0m\u001b[0m\n\u001b[0m\u001b[1;32m    306\u001b[0m         \u001b[0mself\u001b[0m\u001b[0;34m.\u001b[0m\u001b[0mlegend_\u001b[0m\u001b[0;34m.\u001b[0m\u001b[0m_remove_method\u001b[0m \u001b[0;34m=\u001b[0m \u001b[0mself\u001b[0m\u001b[0;34m.\u001b[0m\u001b[0m_remove_legend\u001b[0m\u001b[0;34m\u001b[0m\u001b[0;34m\u001b[0m\u001b[0m\n\u001b[1;32m    307\u001b[0m         \u001b[0;32mreturn\u001b[0m \u001b[0mself\u001b[0m\u001b[0;34m.\u001b[0m\u001b[0mlegend_\u001b[0m\u001b[0;34m\u001b[0m\u001b[0;34m\u001b[0m\u001b[0m\n",
      "\u001b[0;32m~/anaconda3/lib/python3.9/site-packages/matplotlib/legend.py\u001b[0m in \u001b[0;36m__init__\u001b[0;34m(self, parent, handles, labels, loc, numpoints, markerscale, markerfirst, scatterpoints, scatteryoffsets, prop, fontsize, labelcolor, borderpad, labelspacing, handlelength, handleheight, handletextpad, borderaxespad, columnspacing, ncol, mode, fancybox, shadow, title, title_fontsize, framealpha, edgecolor, facecolor, bbox_to_anchor, bbox_transform, frameon, handler_map, title_fontproperties)\u001b[0m\n\u001b[1;32m    497\u001b[0m \u001b[0;34m\u001b[0m\u001b[0m\n\u001b[1;32m    498\u001b[0m         \u001b[0;31m# init with null renderer\u001b[0m\u001b[0;34m\u001b[0m\u001b[0;34m\u001b[0m\u001b[0m\n\u001b[0;32m--> 499\u001b[0;31m         \u001b[0mself\u001b[0m\u001b[0;34m.\u001b[0m\u001b[0m_init_legend_box\u001b[0m\u001b[0;34m(\u001b[0m\u001b[0mhandles\u001b[0m\u001b[0;34m,\u001b[0m \u001b[0mlabels\u001b[0m\u001b[0;34m,\u001b[0m \u001b[0mmarkerfirst\u001b[0m\u001b[0;34m)\u001b[0m\u001b[0;34m\u001b[0m\u001b[0;34m\u001b[0m\u001b[0m\n\u001b[0m\u001b[1;32m    500\u001b[0m \u001b[0;34m\u001b[0m\u001b[0m\n\u001b[1;32m    501\u001b[0m         \u001b[0mtmp\u001b[0m \u001b[0;34m=\u001b[0m \u001b[0mself\u001b[0m\u001b[0;34m.\u001b[0m\u001b[0m_loc_used_default\u001b[0m\u001b[0;34m\u001b[0m\u001b[0;34m\u001b[0m\u001b[0m\n",
      "\u001b[0;32m~/anaconda3/lib/python3.9/site-packages/matplotlib/legend.py\u001b[0m in \u001b[0;36m_init_legend_box\u001b[0;34m(self, handles, labels, markerfirst)\u001b[0m\n\u001b[1;32m    817\u001b[0m                                           \u001b[0mmode\u001b[0m\u001b[0;34m=\u001b[0m\u001b[0mmode\u001b[0m\u001b[0;34m,\u001b[0m\u001b[0;34m\u001b[0m\u001b[0;34m\u001b[0m\u001b[0m\n\u001b[1;32m    818\u001b[0m                                           children=columnbox)\n\u001b[0;32m--> 819\u001b[0;31m         \u001b[0mself\u001b[0m\u001b[0;34m.\u001b[0m\u001b[0m_legend_title_box\u001b[0m \u001b[0;34m=\u001b[0m \u001b[0mTextArea\u001b[0m\u001b[0;34m(\u001b[0m\u001b[0;34m\"\"\u001b[0m\u001b[0;34m)\u001b[0m\u001b[0;34m\u001b[0m\u001b[0;34m\u001b[0m\u001b[0m\n\u001b[0m\u001b[1;32m    820\u001b[0m         self._legend_box = VPacker(pad=self.borderpad * fontsize,\n\u001b[1;32m    821\u001b[0m                                    \u001b[0msep\u001b[0m\u001b[0;34m=\u001b[0m\u001b[0mself\u001b[0m\u001b[0;34m.\u001b[0m\u001b[0mlabelspacing\u001b[0m \u001b[0;34m*\u001b[0m \u001b[0mfontsize\u001b[0m\u001b[0;34m,\u001b[0m\u001b[0;34m\u001b[0m\u001b[0;34m\u001b[0m\u001b[0m\n",
      "\u001b[0;32m~/anaconda3/lib/python3.9/site-packages/matplotlib/_api/deprecation.py\u001b[0m in \u001b[0;36mwrapper\u001b[0;34m(*inner_args, **inner_kwargs)\u001b[0m\n\u001b[1;32m    387\u001b[0m             \u001b[0;31m# Early return in the simple, non-deprecated case (much faster than\u001b[0m\u001b[0;34m\u001b[0m\u001b[0;34m\u001b[0m\u001b[0m\n\u001b[1;32m    388\u001b[0m             \u001b[0;31m# calling bind()).\u001b[0m\u001b[0;34m\u001b[0m\u001b[0;34m\u001b[0m\u001b[0m\n\u001b[0;32m--> 389\u001b[0;31m             \u001b[0;32mreturn\u001b[0m \u001b[0mfunc\u001b[0m\u001b[0;34m(\u001b[0m\u001b[0;34m*\u001b[0m\u001b[0minner_args\u001b[0m\u001b[0;34m,\u001b[0m \u001b[0;34m**\u001b[0m\u001b[0minner_kwargs\u001b[0m\u001b[0;34m)\u001b[0m\u001b[0;34m\u001b[0m\u001b[0;34m\u001b[0m\u001b[0m\n\u001b[0m\u001b[1;32m    390\u001b[0m         \u001b[0marguments\u001b[0m \u001b[0;34m=\u001b[0m \u001b[0msignature\u001b[0m\u001b[0;34m.\u001b[0m\u001b[0mbind\u001b[0m\u001b[0;34m(\u001b[0m\u001b[0;34m*\u001b[0m\u001b[0minner_args\u001b[0m\u001b[0;34m,\u001b[0m \u001b[0;34m**\u001b[0m\u001b[0minner_kwargs\u001b[0m\u001b[0;34m)\u001b[0m\u001b[0;34m.\u001b[0m\u001b[0marguments\u001b[0m\u001b[0;34m\u001b[0m\u001b[0;34m\u001b[0m\u001b[0m\n\u001b[1;32m    391\u001b[0m         \u001b[0;32mif\u001b[0m \u001b[0mis_varargs\u001b[0m \u001b[0;32mand\u001b[0m \u001b[0marguments\u001b[0m\u001b[0;34m.\u001b[0m\u001b[0mget\u001b[0m\u001b[0;34m(\u001b[0m\u001b[0mname\u001b[0m\u001b[0;34m)\u001b[0m\u001b[0;34m:\u001b[0m\u001b[0;34m\u001b[0m\u001b[0;34m\u001b[0m\u001b[0m\n",
      "\u001b[0;32m~/anaconda3/lib/python3.9/site-packages/matplotlib/offsetbox.py\u001b[0m in \u001b[0;36m__init__\u001b[0;34m(self, s, textprops, multilinebaseline, minimumdescent)\u001b[0m\n\u001b[1;32m    720\u001b[0m         \u001b[0;32mif\u001b[0m \u001b[0mtextprops\u001b[0m \u001b[0;32mis\u001b[0m \u001b[0;32mNone\u001b[0m\u001b[0;34m:\u001b[0m\u001b[0;34m\u001b[0m\u001b[0;34m\u001b[0m\u001b[0m\n\u001b[1;32m    721\u001b[0m             \u001b[0mtextprops\u001b[0m \u001b[0;34m=\u001b[0m \u001b[0;34m{\u001b[0m\u001b[0;34m}\u001b[0m\u001b[0;34m\u001b[0m\u001b[0;34m\u001b[0m\u001b[0m\n\u001b[0;32m--> 722\u001b[0;31m         \u001b[0mself\u001b[0m\u001b[0;34m.\u001b[0m\u001b[0m_text\u001b[0m \u001b[0;34m=\u001b[0m \u001b[0mmtext\u001b[0m\u001b[0;34m.\u001b[0m\u001b[0mText\u001b[0m\u001b[0;34m(\u001b[0m\u001b[0;36m0\u001b[0m\u001b[0;34m,\u001b[0m \u001b[0;36m0\u001b[0m\u001b[0;34m,\u001b[0m \u001b[0ms\u001b[0m\u001b[0;34m,\u001b[0m \u001b[0;34m**\u001b[0m\u001b[0mtextprops\u001b[0m\u001b[0;34m)\u001b[0m\u001b[0;34m\u001b[0m\u001b[0;34m\u001b[0m\u001b[0m\n\u001b[0m\u001b[1;32m    723\u001b[0m         \u001b[0msuper\u001b[0m\u001b[0;34m(\u001b[0m\u001b[0;34m)\u001b[0m\u001b[0;34m.\u001b[0m\u001b[0m__init__\u001b[0m\u001b[0;34m(\u001b[0m\u001b[0;34m)\u001b[0m\u001b[0;34m\u001b[0m\u001b[0;34m\u001b[0m\u001b[0m\n\u001b[1;32m    724\u001b[0m         \u001b[0mself\u001b[0m\u001b[0;34m.\u001b[0m\u001b[0m_children\u001b[0m \u001b[0;34m=\u001b[0m \u001b[0;34m[\u001b[0m\u001b[0mself\u001b[0m\u001b[0;34m.\u001b[0m\u001b[0m_text\u001b[0m\u001b[0;34m]\u001b[0m\u001b[0;34m\u001b[0m\u001b[0;34m\u001b[0m\u001b[0m\n",
      "\u001b[0;32m~/anaconda3/lib/python3.9/site-packages/matplotlib/text.py\u001b[0m in \u001b[0;36m__init__\u001b[0;34m(self, x, y, text, color, verticalalignment, horizontalalignment, multialignment, fontproperties, rotation, linespacing, rotation_mode, usetex, wrap, transform_rotates_text, parse_math, **kwargs)\u001b[0m\n\u001b[1;32m    143\u001b[0m         self.set_color(\n\u001b[1;32m    144\u001b[0m             color if color is not None else mpl.rcParams[\"text.color\"])\n\u001b[0;32m--> 145\u001b[0;31m         \u001b[0mself\u001b[0m\u001b[0;34m.\u001b[0m\u001b[0mset_fontproperties\u001b[0m\u001b[0;34m(\u001b[0m\u001b[0mfontproperties\u001b[0m\u001b[0;34m)\u001b[0m\u001b[0;34m\u001b[0m\u001b[0;34m\u001b[0m\u001b[0m\n\u001b[0m\u001b[1;32m    146\u001b[0m         \u001b[0mself\u001b[0m\u001b[0;34m.\u001b[0m\u001b[0mset_usetex\u001b[0m\u001b[0;34m(\u001b[0m\u001b[0musetex\u001b[0m\u001b[0;34m)\u001b[0m\u001b[0;34m\u001b[0m\u001b[0;34m\u001b[0m\u001b[0m\n\u001b[1;32m    147\u001b[0m         \u001b[0mself\u001b[0m\u001b[0;34m.\u001b[0m\u001b[0mset_parse_math\u001b[0m\u001b[0;34m(\u001b[0m\u001b[0mparse_math\u001b[0m\u001b[0;34m)\u001b[0m\u001b[0;34m\u001b[0m\u001b[0;34m\u001b[0m\u001b[0m\n",
      "\u001b[0;32m~/anaconda3/lib/python3.9/site-packages/matplotlib/text.py\u001b[0m in \u001b[0;36mset_fontproperties\u001b[0;34m(self, fp)\u001b[0m\n\u001b[1;32m   1260\u001b[0m             \u001b[0mabsolute\u001b[0m \u001b[0mpath\u001b[0m \u001b[0mto\u001b[0m \u001b[0ma\u001b[0m \u001b[0mfont\u001b[0m \u001b[0mfile\u001b[0m\u001b[0;34m.\u001b[0m\u001b[0;34m\u001b[0m\u001b[0;34m\u001b[0m\u001b[0m\n\u001b[1;32m   1261\u001b[0m         \"\"\"\n\u001b[0;32m-> 1262\u001b[0;31m         \u001b[0mself\u001b[0m\u001b[0;34m.\u001b[0m\u001b[0m_fontproperties\u001b[0m \u001b[0;34m=\u001b[0m \u001b[0mFontProperties\u001b[0m\u001b[0;34m.\u001b[0m\u001b[0m_from_any\u001b[0m\u001b[0;34m(\u001b[0m\u001b[0mfp\u001b[0m\u001b[0;34m)\u001b[0m\u001b[0;34m.\u001b[0m\u001b[0mcopy\u001b[0m\u001b[0;34m(\u001b[0m\u001b[0;34m)\u001b[0m\u001b[0;34m\u001b[0m\u001b[0;34m\u001b[0m\u001b[0m\n\u001b[0m\u001b[1;32m   1263\u001b[0m         \u001b[0mself\u001b[0m\u001b[0;34m.\u001b[0m\u001b[0mstale\u001b[0m \u001b[0;34m=\u001b[0m \u001b[0;32mTrue\u001b[0m\u001b[0;34m\u001b[0m\u001b[0;34m\u001b[0m\u001b[0m\n\u001b[1;32m   1264\u001b[0m \u001b[0;34m\u001b[0m\u001b[0m\n",
      "\u001b[0;32m~/anaconda3/lib/python3.9/site-packages/matplotlib/font_manager.py\u001b[0m in \u001b[0;36mcopy\u001b[0;34m(self)\u001b[0m\n\u001b[1;32m    943\u001b[0m     \u001b[0;32mdef\u001b[0m \u001b[0mcopy\u001b[0m\u001b[0;34m(\u001b[0m\u001b[0mself\u001b[0m\u001b[0;34m)\u001b[0m\u001b[0;34m:\u001b[0m\u001b[0;34m\u001b[0m\u001b[0;34m\u001b[0m\u001b[0m\n\u001b[1;32m    944\u001b[0m         \u001b[0;34m\"\"\"Return a copy of self.\"\"\"\u001b[0m\u001b[0;34m\u001b[0m\u001b[0;34m\u001b[0m\u001b[0m\n\u001b[0;32m--> 945\u001b[0;31m         \u001b[0mnew\u001b[0m \u001b[0;34m=\u001b[0m \u001b[0mtype\u001b[0m\u001b[0;34m(\u001b[0m\u001b[0mself\u001b[0m\u001b[0;34m)\u001b[0m\u001b[0;34m(\u001b[0m\u001b[0;34m)\u001b[0m\u001b[0;34m\u001b[0m\u001b[0;34m\u001b[0m\u001b[0m\n\u001b[0m\u001b[1;32m    946\u001b[0m         \u001b[0mvars\u001b[0m\u001b[0;34m(\u001b[0m\u001b[0mnew\u001b[0m\u001b[0;34m)\u001b[0m\u001b[0;34m.\u001b[0m\u001b[0mupdate\u001b[0m\u001b[0;34m(\u001b[0m\u001b[0mvars\u001b[0m\u001b[0;34m(\u001b[0m\u001b[0mself\u001b[0m\u001b[0;34m)\u001b[0m\u001b[0;34m)\u001b[0m\u001b[0;34m\u001b[0m\u001b[0;34m\u001b[0m\u001b[0m\n\u001b[1;32m    947\u001b[0m         \u001b[0;32mreturn\u001b[0m \u001b[0mnew\u001b[0m\u001b[0;34m\u001b[0m\u001b[0;34m\u001b[0m\u001b[0m\n",
      "\u001b[0;32m~/anaconda3/lib/python3.9/site-packages/matplotlib/font_manager.py\u001b[0m in \u001b[0;36m__init__\u001b[0;34m(self, family, style, variant, weight, stretch, size, fname, math_fontfamily)\u001b[0m\n\u001b[1;32m    682\u001b[0m         \u001b[0mself\u001b[0m\u001b[0;34m.\u001b[0m\u001b[0mset_weight\u001b[0m\u001b[0;34m(\u001b[0m\u001b[0mweight\u001b[0m\u001b[0;34m)\u001b[0m\u001b[0;34m\u001b[0m\u001b[0;34m\u001b[0m\u001b[0m\n\u001b[1;32m    683\u001b[0m         \u001b[0mself\u001b[0m\u001b[0;34m.\u001b[0m\u001b[0mset_stretch\u001b[0m\u001b[0;34m(\u001b[0m\u001b[0mstretch\u001b[0m\u001b[0;34m)\u001b[0m\u001b[0;34m\u001b[0m\u001b[0;34m\u001b[0m\u001b[0m\n\u001b[0;32m--> 684\u001b[0;31m         \u001b[0mself\u001b[0m\u001b[0;34m.\u001b[0m\u001b[0mset_file\u001b[0m\u001b[0;34m(\u001b[0m\u001b[0mfname\u001b[0m\u001b[0;34m)\u001b[0m\u001b[0;34m\u001b[0m\u001b[0;34m\u001b[0m\u001b[0m\n\u001b[0m\u001b[1;32m    685\u001b[0m         \u001b[0mself\u001b[0m\u001b[0;34m.\u001b[0m\u001b[0mset_size\u001b[0m\u001b[0;34m(\u001b[0m\u001b[0msize\u001b[0m\u001b[0;34m)\u001b[0m\u001b[0;34m\u001b[0m\u001b[0;34m\u001b[0m\u001b[0m\n\u001b[1;32m    686\u001b[0m \u001b[0;34m\u001b[0m\u001b[0m\n",
      "\u001b[0;32m~/anaconda3/lib/python3.9/site-packages/matplotlib/font_manager.py\u001b[0m in \u001b[0;36mset_file\u001b[0;34m(self, file)\u001b[0m\n\u001b[1;32m    890\u001b[0m         \u001b[0mother\u001b[0m \u001b[0mproperties\u001b[0m \u001b[0mwill\u001b[0m \u001b[0mbe\u001b[0m \u001b[0mignored\u001b[0m\u001b[0;34m.\u001b[0m\u001b[0;34m\u001b[0m\u001b[0;34m\u001b[0m\u001b[0m\n\u001b[1;32m    891\u001b[0m         \"\"\"\n\u001b[0;32m--> 892\u001b[0;31m         \u001b[0mself\u001b[0m\u001b[0;34m.\u001b[0m\u001b[0m_file\u001b[0m \u001b[0;34m=\u001b[0m \u001b[0mos\u001b[0m\u001b[0;34m.\u001b[0m\u001b[0mfspath\u001b[0m\u001b[0;34m(\u001b[0m\u001b[0mfile\u001b[0m\u001b[0;34m)\u001b[0m \u001b[0;32mif\u001b[0m \u001b[0mfile\u001b[0m \u001b[0;32mis\u001b[0m \u001b[0;32mnot\u001b[0m \u001b[0;32mNone\u001b[0m \u001b[0;32melse\u001b[0m \u001b[0;32mNone\u001b[0m\u001b[0;34m\u001b[0m\u001b[0;34m\u001b[0m\u001b[0m\n\u001b[0m\u001b[1;32m    893\u001b[0m \u001b[0;34m\u001b[0m\u001b[0m\n\u001b[1;32m    894\u001b[0m     \u001b[0;32mdef\u001b[0m \u001b[0mset_fontconfig_pattern\u001b[0m\u001b[0;34m(\u001b[0m\u001b[0mself\u001b[0m\u001b[0;34m,\u001b[0m \u001b[0mpattern\u001b[0m\u001b[0;34m)\u001b[0m\u001b[0;34m:\u001b[0m\u001b[0;34m\u001b[0m\u001b[0;34m\u001b[0m\u001b[0m\n",
      "\u001b[0;31mKeyboardInterrupt\u001b[0m: "
     ]
    },
    {
     "data": {
      "image/png": "[encoded data removed]",
      "text/plain": [
       "<Figure size 1500x700 with 2 Axes>"
      ]
     },
     "metadata": {},
     "output_type": "display_data"
    }
   ],
   "source": [
    "plot_X_vs_Y(X_train, Y_train[:,0], './X_vs_Y.png')"
   ]
  },
  {
   "cell_type": "code",
   "execution_count": 100,
   "id": "ad75cae3",
   "metadata": {},
   "outputs": [
    {
     "data": {
      "text/plain": [
       "array([[ 0.2       , -0.16666667],\n",
       "       [-1.        , -1.        ],\n",
       "       [-0.6       , -0.66666667],\n",
       "       [-1.        ,  0.16666667],\n",
       "       [-0.6       ,  0.66666667],\n",
       "       [-0.6       , -1.        ],\n",
       "       [-1.        , -0.16666667],\n",
       "       [ 0.6       , -0.66666667],\n",
       "       [ 0.6       ,  0.66666667],\n",
       "       [ 0.2       ,  0.16666667],\n",
       "       [ 0.2       , -1.        ],\n",
       "       [ 1.        , -0.16666667],\n",
       "       [ 0.6       ,  1.        ],\n",
       "       [ 1.        , -1.        ],\n",
       "       [-1.        ,  1.        ],\n",
       "       [-0.2       ,  0.66666667],\n",
       "       [ 1.        ,  0.16666667],\n",
       "       [ 0.2       ,  0.66666667],\n",
       "       [ 1.        ,  0.66666667],\n",
       "       [-0.6       ,  1.        ],\n",
       "       [ 0.6       , -0.16666667],\n",
       "       [-0.6       ,  0.16666667],\n",
       "       [ 0.2       ,  1.        ],\n",
       "       [-0.2       ,  1.        ],\n",
       "       [-0.2       ,  0.16666667],\n",
       "       [ 0.6       , -1.        ],\n",
       "       [-0.2       , -1.        ],\n",
       "       [ 0.2       , -0.66666667]])"
      ]
     },
     "execution_count": 100,
     "metadata": {},
     "output_type": "execute_result"
    }
   ],
   "source": [
    "# Normalize X \n",
    "min_X, max_X = max_min_by_columns(X_train)\n",
    "X_train_normalized = normalize(X_train, min_X, max_X)\n",
    "X_train_normalized"
   ]
  },
  {
   "cell_type": "markdown",
   "id": "a99cc9cb",
   "metadata": {},
   "source": [
    "## Plot nromalized and reduced $\\theta(x)$ for different G values "
   ]
  },
  {
   "cell_type": "code",
   "execution_count": 11,
   "id": "213559d9",
   "metadata": {},
   "outputs": [
    {
     "ename": "NameError",
     "evalue": "name 'theta_train_reduced_normalized' is not defined",
     "output_type": "error",
     "traceback": [
      "\u001b[0;31m---------------------------------------------------------------------------\u001b[0m",
      "\u001b[0;31mNameError\u001b[0m                                 Traceback (most recent call last)",
      "\u001b[0;32m/tmp/ipykernel_7286/670049265.py\u001b[0m in \u001b[0;36m<module>\u001b[0;34m\u001b[0m\n\u001b[1;32m     15\u001b[0m \u001b[0mpicked\u001b[0m \u001b[0;34m=\u001b[0m \u001b[0mnp\u001b[0m\u001b[0;34m.\u001b[0m\u001b[0mrandom\u001b[0m\u001b[0;34m.\u001b[0m\u001b[0mrandint\u001b[0m\u001b[0;34m(\u001b[0m\u001b[0;36m0\u001b[0m\u001b[0;34m,\u001b[0m\u001b[0;36m400\u001b[0m\u001b[0;34m,\u001b[0m\u001b[0;36m1\u001b[0m\u001b[0;34m)\u001b[0m\u001b[0;34m\u001b[0m\u001b[0;34m\u001b[0m\u001b[0m\n\u001b[1;32m     16\u001b[0m \u001b[0max\u001b[0m\u001b[0;34m[\u001b[0m\u001b[0;36m0\u001b[0m\u001b[0;34m]\u001b[0m\u001b[0;34m.\u001b[0m\u001b[0mcla\u001b[0m\u001b[0;34m(\u001b[0m\u001b[0;34m)\u001b[0m\u001b[0;34m\u001b[0m\u001b[0;34m\u001b[0m\u001b[0m\n\u001b[0;32m---> 17\u001b[0;31m \u001b[0;32mfor\u001b[0m \u001b[0mcol\u001b[0m \u001b[0;32min\u001b[0m \u001b[0mrange\u001b[0m\u001b[0;34m(\u001b[0m\u001b[0mtheta_train_reduced_normalized\u001b[0m\u001b[0;34m.\u001b[0m\u001b[0mshape\u001b[0m\u001b[0;34m[\u001b[0m\u001b[0;36m1\u001b[0m\u001b[0;34m]\u001b[0m\u001b[0;34m)\u001b[0m\u001b[0;34m:\u001b[0m\u001b[0;34m\u001b[0m\u001b[0;34m\u001b[0m\u001b[0m\n\u001b[0m\u001b[1;32m     18\u001b[0m     \u001b[0maux_ones\u001b[0m \u001b[0;34m=\u001b[0m \u001b[0mnp\u001b[0m\u001b[0;34m.\u001b[0m\u001b[0mones\u001b[0m\u001b[0;34m(\u001b[0m\u001b[0;34m(\u001b[0m\u001b[0mtheta_train_reduced_normalized\u001b[0m\u001b[0;34m.\u001b[0m\u001b[0mshape\u001b[0m\u001b[0;34m[\u001b[0m\u001b[0;36m0\u001b[0m\u001b[0;34m]\u001b[0m\u001b[0;34m,\u001b[0m\u001b[0;34m)\u001b[0m\u001b[0;34m)\u001b[0m\u001b[0;34m\u001b[0m\u001b[0;34m\u001b[0m\u001b[0m\n\u001b[1;32m     19\u001b[0m     \u001b[0mlabel\u001b[0m \u001b[0;34m=\u001b[0m \u001b[0;34mr\"$\\theta_{}$\"\u001b[0m\u001b[0;34m.\u001b[0m\u001b[0mformat\u001b[0m\u001b[0;34m(\u001b[0m\u001b[0mcol\u001b[0m\u001b[0;34m)\u001b[0m\u001b[0;34m\u001b[0m\u001b[0;34m\u001b[0m\u001b[0m\n",
      "\u001b[0;31mNameError\u001b[0m: name 'theta_train_reduced_normalized' is not defined"
     ]
    },
    {
     "data": {
      "image/png": "[encoded data removed]",
      "text/plain": [
       "<Figure size 1500x700 with 2 Axes>"
      ]
     },
     "metadata": {},
     "output_type": "display_data"
    }
   ],
   "source": [
    "# Normalize and reduce theta \n",
    "# theta_train_reduced = Theta_train[:,1:]\n",
    "min_X, max_X = max_min_by_columns(X_train)\n",
    "X_train_normalized = normalize(X_train, min_X, max_X)\n",
    "\n",
    "## Make a subplot with 2 figures\n",
    "fig, ax = plt.subplots(1, 2, figsize=(15, 7))\n",
    "\n",
    "# Plot parameters\n",
    "num_sample_plots = 10\n",
    "label_size = 10\n",
    "\n",
    "## Plot one random sample of Theta vs G\n",
    "\n",
    "picked = np.random.randint(0,400,1)\n",
    "ax[0].cla()\n",
    "for col in range(theta_train_reduced_normalized.shape[1]):\n",
    "    aux_ones = np.ones((theta_train_reduced_normalized.shape[0],))\n",
    "    label = r\"$\\theta_{}$\".format(col)\n",
    "    ax[0].scatter(theta_train_reduced_normalized[picked, col], Y_train[picked], label = label)   \n",
    "\n",
    "ax[0].set_xlabel(r'$[\\theta norm_2,... \\theta norm_9]$', fontsize = 1.8*label_size)\n",
    "ax[0].set_ylabel(r'$G$', fontsize = 1.8*label_size)\n",
    "ax[0].tick_params(axis='both', which='major', labelsize=label_size)\n",
    "ax[0].legend(loc='upper left', fontsize = 10)\n",
    "\n",
    "aux_ones = np.ones((theta_train_reduced_normalized.shape[1],))\n",
    "picked = np.random.randint(0,400,num_sample_plots)\n",
    "\n",
    "\n",
    "col_colors = ['red', 'green', 'blue', 'cyan', 'magenta', 'yellow', 'black', 'gray']\n",
    "for col in range(theta_train_reduced_normalized.shape[1]):\n",
    "    for it in range(num_sample_plots):\n",
    "        x = theta_train_reduced_normalized[picked[it], col] \n",
    "        y = Y_train[picked[it]]\n",
    "        ax[1].scatter(x, y, color = col_colors[col])\n",
    "\n",
    "ax[1].set_xlabel(r'$[\\theta norm_2,... \\theta norm_9]$', fontsize = 1.8*label_size)\n",
    "ax[1].set_ylabel(r'$G$', fontsize = 1.8*label_size)\n",
    "ax[1].tick_params(axis='both', which='major', labelsize=label_size)\n"
   ]
  },
  {
   "cell_type": "markdown",
   "id": "41a224aa",
   "metadata": {},
   "source": [
    "### Creates a customizable architecture NN"
   ]
  },
  {
   "cell_type": "code",
   "execution_count": 89,
   "id": "95a897f8",
   "metadata": {},
   "outputs": [],
   "source": [
    "def create_NN(dim_input, dim_output, nun_nuerons_hidden_layers, num_hidden_layers):\n",
    "    \"\"\"\n",
    "    Function to create a sequential NN model.\n",
    "\n",
    "    Parameters:\n",
    "       dim_input (int):                      Input dimension (number of features).\n",
    "       dim_output (int):                     Output dimension (number of features).\n",
    "       num_hidden_layers(int):               Number of hidden layers.\n",
    "       nun_neurons_hidden_layers (int):      Number of hidden layers.   \n",
    "   \"\"\"      \n",
    "    # create an empty sequential model\n",
    "    Net = torch.nn.Sequential()\n",
    "\n",
    "    # Add first layer \n",
    "    Net.add_module(\"input_layer\", torch.nn.Linear(dim_input, nun_nuerons_hidden_layers))\n",
    "    Net.add_module(\"activation_num_afterinput\", torch.nn.LeakyReLU())\n",
    "#         Net.add_module(\"hidden_activation_num_{}\".format(nhidden_layer + 1 ), torch.nn.Tanh())\n",
    "     \n",
    "    # Add hidden layers\n",
    "    for nhidden_layer in range(num_hidden_layers):\n",
    "        Net.add_module(\n",
    "            \"hidden_layer_num_{}\".format(nhidden_layer + 1),\n",
    "            torch.nn.Linear(nun_nuerons_hidden_layers, nun_nuerons_hidden_layers)\n",
    "        )\n",
    "        Net.add_module(\"hidden_activation_num_{}\".format(nhidden_layer + 1 ), torch.nn.LeakyReLU())\n",
    "#         Net.add_module(\"hidden_activation_num_{}\".format(nhidden_layer + 1 ), torch.nn.Tanh())\n",
    "\n",
    "    # Add output layer\n",
    "    Net.add_module(\"output_layer\", torch.nn.Linear(nun_nuerons_hidden_layers, dim_output))\n",
    "        \n",
    "    return Net"
   ]
  },
  {
   "cell_type": "code",
   "execution_count": 101,
   "id": "01a69336",
   "metadata": {},
   "outputs": [],
   "source": [
    "def train_test_return_net(\n",
    "    num_data_training, \n",
    "    nun_nuerons_hidden_layers, \n",
    "    num_hidden_layers,\n",
    "    num_epochs, learining_rate,\n",
    "    X_train, Y_train, X_test, Y_test,\n",
    "    min_X_train, max_X_train,\n",
    "    device,\n",
    "    generate_gif = False,\n",
    "    normalize_bool = True,\n",
    "    testing = False,\n",
    "    load_Net = torch.nn.Sequential()):\n",
    "    \"\"\"\n",
    "    Function to build, test and train the model.\n",
    "\n",
    "    Parameters:\n",
    "       num_data_trainging (int):        Number of samples.\n",
    "       nun_nuerons_hidden_layers (int): Number of neurons for each hidden layer.\n",
    "       num_hidden_layers (int):         Number of hidden layers.\n",
    "       num_epochs (int):                Number of epochs to train the model.   \n",
    "       learining_rate (float):          Learning rate for the optimizer.    \n",
    "       X_train (ndarray):               Numpy array contaning the traning set inputs.   \n",
    "       Y_train (ndarray):               Numpy array contaning the training set outputs.   \n",
    "       X_test (ndarray):                Numpy array contaning the testing set inputs.   \n",
    "       Y_test (ndarray):                Numpy array contaning the testing set outputs. \n",
    "       max_X_train(ndarray)     Numpy array contaning the maximum value for each theta column.\n",
    "       min_X_train(ndarray)     Numpy array contaning the minimum value for each theta column.\n",
    "       device (string):                 'cpu' or 'cuda'\n",
    "       generate_gif (bool):             Boolean to generate a training .gif.\n",
    "       nromalize_bool (bool):           Boolean to normalize the input data.\n",
    "       load_Net:                        True if an already created Net will be used (and not created inside)\n",
    "\n",
    "   \"\"\"        \n",
    "    \n",
    "    ###############################################\n",
    "    ############# PROCESS DATA   ##################\n",
    "    ###############################################\n",
    "    # Pick the first num data trainig samples for X and Y\n",
    "    X_train = X_train[:num_data_training]\n",
    "    Y_train = Y_train[:num_data_training]\n",
    "    num_col_Xr = X_train.shape[1]\n",
    "    num_col_Y = Y_train.shape[1]\n",
    "    \n",
    "    # Normalize X_train\n",
    "    if normalize_bool:\n",
    "        normalized_X_train = normalize(X_train, min_X_train, max_X_train)\n",
    "    else:\n",
    "        normalized_X_train = X_train\n",
    "\n",
    "    \n",
    "    # Transform from numpy to torch into torch x_train and y_train \n",
    "    x_to_plot = normalized_X_train.reshape(-1,num_col_Xr)             \n",
    "    x_train = torch.from_numpy(x_to_plot).float().to(device)\n",
    "    y_train = torch.from_numpy(Y_train.reshape(-1,num_col_Y)).float().to(device)\n",
    "    \n",
    "    ###############################################\n",
    "    #############   BUILD MODEL  ##################\n",
    "    ###############################################      \n",
    "    dim_input = x_train.shape[1]\n",
    "    dim_output = num_col_Y\n",
    "    \n",
    "    if not load_Net:#Creates a new model only if no Net is loaded, else it copies the loaded one\n",
    "        print(\"creating NN from scratch\")\n",
    "        Net = create_NN(dim_input, dim_output, nun_nuerons_hidden_layers, num_hidden_layers)\n",
    "    else:\n",
    "        print(\"Loading NN\")\n",
    "        Net=load_Net\n",
    "            \n",
    "    Net.to(device)\n",
    "    \n",
    "    ###############################################\n",
    "    #####    TRAIN AND TEST THE  MODEL  ###########\n",
    "    ###############################################\n",
    "    \n",
    "    # Watch x,y variables into torch\n",
    "    x_train = Variable(x_train)\n",
    "    y_train = Variable(y_train)\n",
    "    \n",
    "    # Select loss and optimizer\n",
    "    loss_function = torch.nn.MSELoss(reduction ='mean')\n",
    "    optimizer_adam = torch.optim.Adam(Net.parameters(), lr = learining_rate)\n",
    "    \n",
    "    # Define two vectors to store train and test loss\n",
    "    loss_train = np.zeros(num_epochs)\n",
    "    loss_test = np.zeros_like(loss_train)\n",
    "    \n",
    "    # initilize list to plot gif\n",
    "    if generate_gif:\n",
    "        fig, ax = plt.subplots(figsize=(15,10))\n",
    "        image_list = []\n",
    "\n",
    "    # init variable to measure time\n",
    "    start_time = time.time()\n",
    "    \n",
    "    # Train and test the model for different epochs\n",
    "    for epoch in range(num_epochs):\n",
    "        \n",
    "        ###############################################\n",
    "        ############# TRAINING STAGE ##################\n",
    "        ###############################################\n",
    "        y_nn_train = Net(x_train)\n",
    "        loss = loss_function(y_nn_train, y_train)  # Notice the order: NN Pred first and then actual value\n",
    "        optimizer_adam.zero_grad()       # Zero Out the gradient\n",
    "        loss.backward()\n",
    "        optimizer_adam.step()\n",
    "        loss_train[epoch] = loss.to('cpu').detach().numpy()\n",
    "        \n",
    "        if testing:\n",
    "            ###############################################\n",
    "            ############# TESTING STAGE ##################\n",
    "            ###############################################\n",
    "            # Normalize X_test\n",
    "    #         X_test_reduced = X_test[:,1:] # Skip the first temperature\n",
    "            if normalize_bool:\n",
    "                normalized_X_test = normalize(X_test, min_X_train, max_X_train)\n",
    "            else:\n",
    "                normalized_X_test = X_test\n",
    "\n",
    "            # Convert into torch x_test and y_test \n",
    "            x_test = torch.from_numpy(normalized_X_test.reshape(-1,num_col_Xr)).float().to(device)\n",
    "            y_test = torch.from_numpy(Y_test.reshape(-1,num_col_Y)).float().to(device)\n",
    "\n",
    "            # Compute y predict and loss function\n",
    "            y_nn_test = Net(x_test)\n",
    "            loss_test[epoch] = loss_function(y_nn_test, y_test).to('cpu').detach().numpy()  # Notice the order: NN Pred first and then actual value\n",
    "\n",
    "        # Print gif with 100 images\n",
    "        if epoch%(num_epochs // 100 )==0 and generate_gif:\n",
    "        \n",
    "            # Temperature index to plot \n",
    "            temp_to_plot_idx = 0 #[ 0 => T1, 1 => T2]\n",
    "            x_test_to_plot = normalized_X_test[:,temp_to_plot_idx].reshape(-1,1)\n",
    "            y_test = (Y_test.reshape(-1,num_col_Y))\n",
    "            \n",
    "            # Compute training values to plot \n",
    "            x_train_to_plot = x_train.to('cpu').detach().numpy()\n",
    "            x_train_to_plot = x_train_to_plot[:,temp_to_plot_idx].reshape(-1,1)\n",
    "            y_train_to_plot = y_train.to('cpu').detach().numpy()\n",
    "            \n",
    "            # Compute NN predicted values to plot\n",
    "            y_nn_to_plot = y_nn_train.to('cpu').detach().numpy()\n",
    "            \n",
    "            # Plot\n",
    "            plt.cla()\n",
    "            ax.scatter(x_test_to_plot, y_test, color = \"red\", label=\"Testing Data\")\n",
    "            ax.scatter(x_train_to_plot, y_train_to_plot, color = \"blue\", label=\"Training Data\")\n",
    "            ax.plot(x_train_to_plot[:,0], y_nn_to_plot, 'k--', lw=2,  label=\"NN Apprximated\")\n",
    "            \n",
    "            # Labels\n",
    "            if normalize_bool:\n",
    "                ax.set_xlabel(r'$norm\\theta_{}$'.format(temp_to_plot_idx + 2), fontsize=32)\n",
    "            else:\n",
    "                ax.set_xlabel(r'$\\theta_{}$'.format(temp_to_plot_idx + 2), fontsize=32)\n",
    "                \n",
    "            ax.set_ylabel('$G$', fontsize=32)\n",
    "            ax.set_xlim(min(x_test_to_plot), max(x_test_to_plot))\n",
    "            ax.set_ylim(0, 1)\n",
    "            ax.text(min(x_test_to_plot), 1 , 'Adam Optimizer: epoch = %d,' %epoch, fontdict={'size': 22, 'color':  'black'})\n",
    "            ax.text(min(x_test_to_plot) + (max(x_test_to_plot) - min(x_test_to_plot))/2, 1, 'Loss = %.6f' % loss,\n",
    "                    fontdict={'size': 22, 'color':  'black'})\n",
    "            ax.tick_params(axis='x', labelsize=14)\n",
    "            ax.tick_params(axis='y', labelsize=14)\n",
    "            ax.legend()\n",
    "            fig.canvas.draw()      \n",
    "            image = np.frombuffer(fig.canvas.tostring_rgb(), dtype='uint8')\n",
    "            image  = image.reshape(fig.canvas.get_width_height()[::-1] + (3,))\n",
    "            image_list.append(image)\n",
    "\n",
    "\n",
    "    # Consumed time\n",
    "    elapsed_time = time.time() - start_time\n",
    "\n",
    "    # Save gif\n",
    "    if generate_gif:\n",
    "        name = './part1_outputs/gifs/Adam_ndata_{}_nhlayers_{}_nromalized_{}.gif'.format(num_data_training, num_hidden_layers, normalize_bool)\n",
    "        imageio.mimsave(name, image_list, fps=5)\n",
    "    \n",
    "    print(f\"With num_data_training: {num_data_training} the final loss is: {loss:.5e}\")\n",
    "    \n",
    "    return loss_train, loss_test, elapsed_time, Net"
   ]
  },
  {
   "cell_type": "markdown",
   "id": "fb4e34f2",
   "metadata": {},
   "source": [
    "## Train and test function: ` train_test_model `"
   ]
  },
  {
   "cell_type": "code",
   "execution_count": null,
   "id": "707e000c",
   "metadata": {},
   "outputs": [],
   "source": [
    "def train_test_model(\n",
    "    num_data_training, \n",
    "    nun_nuerons_hidden_layers, \n",
    "    num_hidden_layers,\n",
    "    num_epochs, learining_rate,\n",
    "    X_train, Y_train, X_test, Y_test,\n",
    "    min_X_train_reduced, max_X_train_reduced,\n",
    "    device,\n",
    "    generate_gif = False,\n",
    "    normalize_bool = True):\n",
    "    \"\"\"\n",
    "    Function to build, test and train the model.\n",
    "\n",
    "    Parameters:\n",
    "       num_data_trainging (int):        Number of samples.\n",
    "       nun_nuerons_hidden_layers (int): Number of neurons for each hidden layer.\n",
    "       num_hidden_layers (int):         Number of hidden layers.\n",
    "       num_epochs (int):                Number of epochs to train the model.   \n",
    "       learining_rate (float):          Learning rate for the optimizer.    \n",
    "       X_train (ndarray):               Numpy array contaning the traning set inputs.   \n",
    "       Y_train (ndarray):               Numpy array contaning the training set outputs.   \n",
    "       X_test (ndarray):                Numpy array contaning the testing set inputs.   \n",
    "       Y_test (ndarray):                Numpy array contaning the testing set outputs. \n",
    "       max_X_train_reduced(ndarray)     Numpy array contaning the maximum value for each theta column.\n",
    "       min_X_train_reduced(ndarray)     Numpy array contaning the minimum value for each theta column.\n",
    "       device (string):                 'cpu' or 'cuda'\n",
    "       generate_gif (bool):             Boolean to generate a training .gif.\n",
    "       nromalize_bool (bool):           Boolean to normalize the input data.\n",
    "\n",
    "   \"\"\"        \n",
    "    \n",
    "    ###############################################\n",
    "    ############# PROCESS DATA   ##################\n",
    "    ###############################################\n",
    "    # Pick the first num data trainig samples for X and Y\n",
    "    X_train_reduced = X_train[:num_data_training] # Skip the first value since no adds any extra info\n",
    "    Y_train_reduced = Y_train[:num_data_training]\n",
    "    num_col_Xr = X_train_reduced.shape[1]\n",
    "    num_col_Y = Y_train_reduced.shape[1]\n",
    "    \n",
    "    # Normalize X_train\n",
    "    if normalize_bool:\n",
    "        normalized_X_reduced_train = normalize(X_train_reduced, min_X_train_reduced, max_X_train_reduced)\n",
    "    else:\n",
    "        normalized_X_reduced_train = X_train_reduced\n",
    "\n",
    "    \n",
    "    # Transofrm from numpy to torch into torch x_train and y_train \n",
    "    x_to_plot = normalized_X_reduced_train.reshape(-1,num_col_Xr)             \n",
    "    x_train = torch.from_numpy(x_to_plot).float().to(device)\n",
    "    y_train = torch.from_numpy(Y_train_reduced.reshape(-1,num_col_Y)).float().to(device)\n",
    "    \n",
    "    ###############################################\n",
    "    #############   BUILD MODEL  ##################\n",
    "    ###############################################      \n",
    "    dim_input = x_train.shape[1]\n",
    "    dim_output = num_col_Y\n",
    "    Net = create_NN(dim_input, dim_output, nun_nuerons_hidden_layers, num_hidden_layers)\n",
    "    Net.to(device)\n",
    "    \n",
    "    ###############################################\n",
    "    #####    TRAIN AND TEST THE  MODEL  ###########\n",
    "    ###############################################\n",
    "    \n",
    "    # Watch x,y variables into torch\n",
    "    x_train = Variable(x_train)\n",
    "    y_train = Variable(y_train)\n",
    "    \n",
    "    # Select loss and optimizer\n",
    "    loss_function = torch.nn.MSELoss(reduction ='mean')\n",
    "    optimizer_adam = torch.optim.Adam(Net.parameters(), lr = learining_rate)\n",
    "    \n",
    "    # Define two vectors to store train and test loss\n",
    "    loss_train = np.zeros(num_epochs)\n",
    "    loss_test = np.zeros_like(loss_train)\n",
    "    \n",
    "    # initilize list to plot gif\n",
    "    if generate_gif:\n",
    "        fig, ax = plt.subplots(figsize=(15,10))\n",
    "        image_list = []\n",
    "\n",
    "    # init variable to measure time\n",
    "    start_time = time.time()\n",
    "    \n",
    "    # Train and test the model for different epochs\n",
    "    for epoch in range(num_epochs):\n",
    "        \n",
    "        ###############################################\n",
    "        ############# TESTING STAGE ##################\n",
    "        ###############################################\n",
    "        y_nn_train = Net(x_train)\n",
    "        loss = loss_function(y_nn_train, y_train)  # Notice the order: NN Pred first and then actual value\n",
    "        optimizer_adam.zero_grad()       # Zero Out the gradient\n",
    "        loss.backward()\n",
    "        optimizer_adam.step()\n",
    "        loss_train[epoch] = loss.to('cpu').detach().numpy()\n",
    "        \n",
    "        \n",
    "        ###############################################\n",
    "        ############# TESTING STAGE ##################\n",
    "        ###############################################\n",
    "        # Normalize X_test\n",
    "        X_test_reduced = X_test[:,1:] # Skip the first temperature\n",
    "        if normalize_bool:\n",
    "            normalized_X_test = normalize(X_test_reduced, min_X_train_reduced, max_X_train_reduced)\n",
    "        else:\n",
    "            normalized_X_test = X_test_reduced\n",
    "\n",
    "        # Convert into torch x_test and y_test \n",
    "        x_test = torch.from_numpy(normalized_X_test.reshape(-1,num_col_Xr)).float().to(device)\n",
    "        y_test = torch.from_numpy(Y_test.reshape(-1,num_col_Y)).float().to(device)\n",
    "\n",
    "        # Compute y predict and loss function\n",
    "        y_nn_test = Net(x_test)\n",
    "        loss_test[epoch] = loss_function(y_nn_test, y_test).to('cpu').detach().numpy()  # Notice the order: NN Pred first and then actual value\n",
    "        \n",
    "        # Print gif with 100 images\n",
    "        if epoch%(num_epochs // 100 )==0 and generate_gif:\n",
    "        \n",
    "            # Temperature index to plot \n",
    "            temp_to_plot_idx = 0 #[ 0 => T1, 1 => T2]\n",
    "            x_test_to_plot = normalized_X_test[:,temp_to_plot_idx].reshape(-1,1)\n",
    "            y_test = (Y_test.reshape(-1,num_col_Y))\n",
    "            \n",
    "            # Compute training values to plot \n",
    "            x_train_to_plot = x_train.to('cpu').detach().numpy()\n",
    "            x_train_to_plot = x_train_to_plot[:,temp_to_plot_idx].reshape(-1,1)\n",
    "            y_train_to_plot = y_train.to('cpu').detach().numpy()\n",
    "            \n",
    "            # Compute NN predicted values to plot\n",
    "            y_nn_to_plot = y_nn_train.to('cpu').detach().numpy()\n",
    "            \n",
    "            # Plot\n",
    "            plt.cla()\n",
    "            ax.scatter(x_test_to_plot, y_test, color = \"red\", label=\"Testing Data\")\n",
    "            ax.scatter(x_train_to_plot, y_train_to_plot, color = \"blue\", label=\"Training Data\")\n",
    "            ax.plot(x_train_to_plot[:,0], y_nn_to_plot, 'k--', lw=2,  label=\"NN Apprximated\")\n",
    "            \n",
    "            # Labels\n",
    "            if normalize_bool:\n",
    "                ax.set_xlabel(r'$norm\\theta_{}$'.format(temp_to_plot_idx + 2), fontsize=32)\n",
    "            else:\n",
    "                ax.set_xlabel(r'$\\theta_{}$'.format(temp_to_plot_idx + 2), fontsize=32)\n",
    "                \n",
    "            ax.set_ylabel('$G$', fontsize=32)\n",
    "            ax.set_xlim(min(x_test_to_plot), max(x_test_to_plot))\n",
    "            ax.set_ylim(0, 1)\n",
    "            ax.text(min(x_test_to_plot), 1 , 'Adam Optimizer: epoch = %d,' %epoch, fontdict={'size': 22, 'color':  'black'})\n",
    "            ax.text(min(x_test_to_plot) + (max(x_test_to_plot) - min(x_test_to_plot))/2, 1, 'Loss = %.6f' % loss,\n",
    "                    fontdict={'size': 22, 'color':  'black'})\n",
    "            ax.tick_params(axis='x', labelsize=14)\n",
    "            ax.tick_params(axis='y', labelsize=14)\n",
    "            ax.legend()\n",
    "            fig.canvas.draw()      \n",
    "            image = np.frombuffer(fig.canvas.tostring_rgb(), dtype='uint8')\n",
    "            image  = image.reshape(fig.canvas.get_width_height()[::-1] + (3,))\n",
    "            image_list.append(image)\n",
    "\n",
    "\n",
    "    # Consumed time\n",
    "    elapsed_time = time.time() - start_time\n",
    "\n",
    "    # Save gif\n",
    "    if generate_gif:\n",
    "        name = './part1_outputs/gifs/Adam_ndata_{}_nhlayers_{}_nromalized_{}.gif'.format(num_data_training, num_hidden_layers, normalize_bool)\n",
    "        imageio.mimsave(name, image_list, fps=5)\n",
    "    \n",
    "    print(f\"With num_data_training: {num_data_training} the final loss is: {loss:.5e}\")\n",
    "    \n",
    "    return loss_test, loss_train, elapsed_time"
   ]
  },
  {
   "cell_type": "markdown",
   "id": "dad0b56b",
   "metadata": {},
   "source": [
    "## Train the model for different number of  $\\theta$ data training"
   ]
  },
  {
   "cell_type": "code",
   "execution_count": 91,
   "id": "c8aad119",
   "metadata": {},
   "outputs": [
    {
     "data": {
      "text/plain": [
       "1"
      ]
     },
     "execution_count": 91,
     "metadata": {},
     "output_type": "execute_result"
    }
   ],
   "source": [
    "# model hyper-params\n",
    "num_of_neurons = 32\n",
    "num_of_hidden_layers = 2\n",
    "\n",
    "num_epochs_1 = 5000\n",
    "lr1 = 5e-4\n",
    "\n",
    "# range for number of data training\n",
    "# nun_data_training = range(10,401,100)\n",
    "nun_data_training = [X_train.size]\n",
    "len(nun_data_training)"
   ]
  },
  {
   "cell_type": "code",
   "execution_count": 102,
   "id": "4c8fd22d",
   "metadata": {},
   "outputs": [
    {
     "data": {
      "text/plain": [
       "(8, 2)"
      ]
     },
     "execution_count": 102,
     "metadata": {},
     "output_type": "execute_result"
    }
   ],
   "source": [
    "#pRUEBA LA SALIDA DE \n",
    "# redPrueba=torch.nn.Sequential()\n",
    "# print(redPrueba)\n",
    "# parametros=redPrueba.named_parameters()\n",
    "# shape(parametros)\n",
    "\n",
    "Y_train.shape\n",
    "Y_test.shape"
   ]
  },
  {
   "cell_type": "code",
   "execution_count": 103,
   "id": "80f6e51c",
   "metadata": {
    "scrolled": true
   },
   "outputs": [
    {
     "name": "stdout",
     "output_type": "stream",
     "text": [
      "Training with : cpu\n",
      "etapa 1\n",
      "creating NN from scratch\n",
      "With num_data_training: 56 the final loss is: 1.11521e+03\n",
      "epochs etapa 1: 5000\n"
     ]
    }
   ],
   "source": [
    "# Paramters to select\n",
    "normalization_bool = True\n",
    "plot_gif_bool = False #True#\n",
    "testing_bool = False\n",
    "cargar_red_de_archivo = False #True\n",
    "archivo_carga_red = \"./RedNodal_2x2.pt\"\n",
    "\n",
    "# Cargar Red Nodal de archivo\n",
    "if cargar_red_de_archivo:\n",
    "    dim_X=X_train.shape[1]\n",
    "    dim_Y=Y_train.shape[1]\n",
    "    ModeloCargado = create_NN(dim_X,dim_Y,num_of_neurons,num_of_hidden_layers)#creamos red vacía pero con estructura adecuada\n",
    "    # create_NN(dim_input, dim_output, nun_nuerons_hidden_layers, num_hidden_layers)\n",
    "    ModeloCargado.load_state_dict(torch.load(archivo_carga_red), strict=False)#cargamos la red guardada\n",
    "    ModeloCargado.train()\n",
    "#     ModeloCargado.eval()#la ponemos en modo \"evaluación\" o de \"inferencia\". Si no se hace esto puede dar malos resultados\n",
    "    \n",
    "\n",
    "# result arrays to be filled\n",
    "testing_error = np.zeros(len(nun_data_training))\n",
    "elapsed_time_cpu = np.zeros_like(testing_error)\n",
    "loss_test_1 = np.zeros((len(nun_data_training),num_epochs_1))\n",
    "loss_train_1 = np.zeros_like(loss_test_1)\n",
    "if cargar_red_de_archivo:\n",
    "    RedNodal = [ModeloCargado]*(len(nun_data_training))\n",
    "else:        \n",
    "    RedNodal = [torch.nn.Sequential()]*(len(nun_data_training)) #array de redes neurnoales de tamanio nun_data_training\n",
    "\n",
    "\n",
    "# GPU execution\n",
    "#device = \"cpu\"#'cuda'\n",
    "#elapsed_time_gpu = np.zeros_like(testing_error)\n",
    "\n",
    "#print(\"Training with : \" + device)\n",
    "#for i,num_data in enumerate(nun_data_training):\n",
    "#     loss_train[i,:], loss_test[i,:], elapsed_time_gpu[i]= train_test_model(\n",
    "#         num_data, num_of_neurons, num_of_hidden_layers, num_epochs, lr,\n",
    "#         Theta_train, Y_train, Theta_test, Y_test, min_X, max_theta_reduced,\n",
    "#         device, plot_gif_bool, normalization_bool)\n",
    "    \n",
    "    \n",
    "## CPU execution\n",
    "device = 'cpu'\n",
    "elapsed_time_cpu = np.zeros_like(testing_error)\n",
    "\n",
    "# print(\"Training with : \" + device)\n",
    "# for i,num_data in enumerate(nun_data_training):\n",
    "#     loss_train[i,:], loss_test[i,:], elapsed_time_cpu[i] = train_test_model(\n",
    "#         num_data, num_of_neurons, num_of_hidden_layers, num_epochs, lr,\n",
    "#         Theta_train, Y_train, Theta_test, Y_test, min_X, max_theta_reduced,\n",
    "#         device, plot_gif_bool, normalization_bool)\n",
    "\n",
    "print(\"Training with : \" + device)\n",
    "\n",
    "for i,num_data in enumerate(nun_data_training):\n",
    "    print(\"etapa 1\")\n",
    "    if cargar_red_de_archivo:\n",
    "        loss_train_1[i,:], loss_test_1[i,:], elapsed_time_cpu[i], RedNodal[i] = train_test_return_net(\n",
    "            num_data, num_of_neurons, num_of_hidden_layers, num_epochs_1, lr1,X_train, Y_train, X_test, \n",
    "            Y_test, min_X, max_X, device, plot_gif_bool, normalization_bool, testing_bool, RedNodal[i])\n",
    "    else:\n",
    "        loss_train_1[i,:], loss_test_1[i,:], elapsed_time_cpu[i], RedNodal[i] = train_test_return_net(\n",
    "            num_data, num_of_neurons, num_of_hidden_layers, num_epochs_1, lr1,X_train, Y_train, X_test, \n",
    "            Y_test, min_X, max_X, device, plot_gif_bool, normalization_bool, testing_bool)\n",
    "    print(\"epochs etapa 1: {}\".format(loss_train_1[i,:].size))\n",
    "    pd.DataFrame(loss_train_1).to_csv('loss_train_1.csv', sep='\\n', index=False, header=False)#para imprimirlos en columnas, sin numero de epoch y sin titulo\n",
    "    pd.DataFrame(loss_test_1).to_csv('loss_test_1.csv', sep='\\n', index=False, header=False)#para imprimirlos en columnas, sin numero de epoch y sin titulo"
   ]
  },
  {
   "cell_type": "code",
   "execution_count": 104,
   "id": "73ec2ef1",
   "metadata": {},
   "outputs": [
    {
     "name": "stdout",
     "output_type": "stream",
     "text": [
      "etapa 2\n",
      "Loading NN\n",
      "With num_data_training: 56 the final loss is: 1.88586e+00\n",
      "epochs etapa 2: 4000\n"
     ]
    }
   ],
   "source": [
    "num_epochs_2 = 4000\n",
    "lr2 = 5e-4\n",
    "loss_test_2 = np.zeros((len(nun_data_training),num_epochs_2))\n",
    "loss_train_2 = np.zeros_like(loss_test_2)\n",
    "\n",
    "for i,num_data in enumerate(nun_data_training):\n",
    "    print(\"etapa 2\")\n",
    "    loss_train_2[i,:], loss_test_2[i,:], elapsed_time_cpu[i], RedNodal[i] = train_test_return_net(\n",
    "        num_data, num_of_neurons, num_of_hidden_layers, num_epochs_2, lr2,\n",
    "        X_train, Y_train, X_test, Y_test, min_X, max_X,\n",
    "        device, plot_gif_bool, normalization_bool, testing_bool, RedNodal[i])\n",
    "    print(\"epochs etapa 2: {}\".format(loss_train_2[i,:].size))\n",
    "    pd.DataFrame(loss_train_2).to_csv('loss_train_2.csv', sep='\\n', index=False, header=False)#para imprimirlos en columnas, sin numero de epoch y sin titulo\n",
    "    pd.DataFrame(loss_test_2).to_csv('loss_test_2.csv', sep='\\n', index=False, header=False)#para imprimirlos en columnas, sin numero de epoch y sin titulo"
   ]
  },
  {
   "cell_type": "code",
   "execution_count": 105,
   "id": "fd4835c0",
   "metadata": {},
   "outputs": [
    {
     "name": "stdout",
     "output_type": "stream",
     "text": [
      "etapa 3\n",
      "Loading NN\n",
      "With num_data_training: 56 the final loss is: 8.16292e-01\n",
      "epochs etapa 3: 4000\n"
     ]
    }
   ],
   "source": [
    "num_epochs_3 = 4000\n",
    "lr3 = 5e-5\n",
    "loss_test_3 = np.zeros((len(nun_data_training),num_epochs_3))\n",
    "loss_train_3 = np.zeros_like(loss_test_3)\n",
    "\n",
    "for i,num_data in enumerate(nun_data_training):\n",
    "    print(\"etapa 3\")\n",
    "    loss_train_3[i,:], loss_test_3[i,:], elapsed_time_cpu[i], RedNodal[i] = train_test_return_net(\n",
    "        num_data, num_of_neurons, num_of_hidden_layers, num_epochs_3, lr3,\n",
    "        X_train, Y_train, X_test, Y_test, min_X, max_X,\n",
    "        device, plot_gif_bool, normalization_bool, testing_bool, RedNodal[i])\n",
    "    print(\"epochs etapa 3: {}\".format(loss_train_3[i,:].size))\n",
    "    pd.DataFrame(loss_train_3).to_csv('loss_train_3.csv', sep='\\n', index=False, header=False)#para imprimirlos en columnas, sin numero de epoch y sin titulo\n",
    "    pd.DataFrame(loss_test_3).to_csv('loss_test_3.csv', sep='\\n', index=False, header=False)#para imprimirlos en columnas, sin numero de epoch y sin titulo"
   ]
  },
  {
   "cell_type": "code",
   "execution_count": 106,
   "id": "3294e855",
   "metadata": {},
   "outputs": [
    {
     "name": "stdout",
     "output_type": "stream",
     "text": [
      "etapa 4\n",
      "Loading NN\n",
      "With num_data_training: 56 the final loss is: 3.36744e-01\n",
      "epochs etapa 4: 7000\n"
     ]
    }
   ],
   "source": [
    "num_epochs_4 = 7000\n",
    "lr4 = 1e-5\n",
    "loss_test_4 = np.zeros((len(nun_data_training),num_epochs_4))\n",
    "loss_train_4 = np.zeros_like(loss_test_4)\n",
    "testing_bool=True\n",
    "\n",
    "for i,num_data in enumerate(nun_data_training):\n",
    "    print(\"etapa 4\")\n",
    "    loss_train_4[i,:], loss_test_4[i,:], elapsed_time_cpu[i], RedNodal[i] = train_test_return_net(\n",
    "        num_data, num_of_neurons, num_of_hidden_layers, num_epochs_4, lr4,\n",
    "        X_train, Y_train, X_test, Y_test, min_X, max_X,\n",
    "        device, plot_gif_bool, normalization_bool, testing_bool, RedNodal[i])\n",
    "    print(\"epochs etapa 4: {}\".format(loss_train_4[i,:].size))\n",
    "    pd.DataFrame(loss_train_4).to_csv('loss_train_4.csv', sep='\\n', index=False, header=False)#para imprimirlos en columnas, sin numero de epoch y sin titulo\n",
    "    pd.DataFrame(loss_test_4).to_csv('loss_test_4.csv', sep='\\n', index=False, header=False)#para imprimirlos en columnas, sin numero de epoch y sin titulo"
   ]
  },
  {
   "cell_type": "markdown",
   "id": "99407942",
   "metadata": {},
   "source": [
    "# CALCULAR SALIDAS E IMPRIMIR RESULTADOS"
   ]
  },
  {
   "cell_type": "code",
   "execution_count": 77,
   "id": "03405b4b",
   "metadata": {},
   "outputs": [
    {
     "data": {
      "text/plain": [
       "Sequential(\n",
       "  (input_layer): Linear(in_features=2, out_features=32, bias=True)\n",
       "  (hidden_layer_num_1): Linear(in_features=32, out_features=32, bias=True)\n",
       "  (hidden_activation_num_1): LeakyReLU(negative_slope=0.01)\n",
       "  (hidden_layer_num_2): Linear(in_features=32, out_features=32, bias=True)\n",
       "  (hidden_activation_num_2): LeakyReLU(negative_slope=0.01)\n",
       "  (output_layer): Linear(in_features=32, out_features=2, bias=True)\n",
       ")"
      ]
     },
     "execution_count": 77,
     "metadata": {},
     "output_type": "execute_result"
    }
   ],
   "source": [
    "# loss_train_3\n",
    "# type(RedNodal)\n",
    "# len(RedNodal)\n",
    "# RedNodal[0](X_test)\n",
    "# loss_test\n",
    "# loss_train.size\n",
    "# loss_train.shape\n",
    "# loss_train[None,:]\n",
    "# loss_train.size\n",
    "# loss_train.shape\n",
    "# pd.DataFrame(loss_train).to_csv('loss_train_3.csv', sep='\\n', index=False, header=False)#para imprimirlos en columnas, sin numero de epoch y sin titulo\n",
    "# pd.DataFrame(loss_test).to_csv('loss_test_3.csv', sep='\\n', index=False, header=False)\n",
    "\n",
    "# GUARDAR LA RED EN ARCHIVO\n",
    "archivo = \"./RedNodal_2x32.pt\"\n",
    "torch.save(RedNodal[0].state_dict(), archivo)\n",
    "\n",
    "#PARA CARGAR LA RED PARA SU USO:\n",
    "dim_X=X_train.shape[1]\n",
    "dim_Y=Y_train.shape[1]\n",
    "ModeloCargado = create_NN(dim_X,dim_Y,num_of_neurons,num_of_hidden_layers)#creamos red vacía pero con estructura adecuada\n",
    "# create_NN(dim_input, dim_output, nun_nuerons_hidden_layers, num_hidden_layers)\n",
    "ModeloCargado.load_state_dict(torch.load(archivo))#cargamos la red guardada\n",
    "ModeloCargado.eval()#la ponemos en modo \"evaluación\" o de \"inferencia\". Si no se hace esto puede dar malos resultados"
   ]
  },
  {
   "cell_type": "code",
   "execution_count": 107,
   "id": "5a3df345",
   "metadata": {},
   "outputs": [
    {
     "name": "stdout",
     "output_type": "stream",
     "text": [
      "error: 0.3367178440093994\n",
      "salida RN:\n",
      "tensor([[ 634.4530,   35.9183],\n",
      "        [ 540.9979,  177.9993],\n",
      "        [ 549.0032,   71.6048],\n",
      "        [ 351.9775,   38.4120],\n",
      "        [ 359.8094,   28.3963],\n",
      "        [ 754.0025,  147.0047],\n",
      "        [ 362.0172,   52.6926],\n",
      "        [ 973.0129,   49.4062],\n",
      "        [ 513.9336,   23.9461],\n",
      "        [ 526.3192,   29.6305],\n",
      "        [1259.9891,  104.9905],\n",
      "        [ 813.9886,   31.8071],\n",
      "        [ 452.0051,   21.3958],\n",
      "        [1940.0060,   78.2644],\n",
      "        [ 331.9975,   27.1003],\n",
      "        [ 419.5633,   27.2505],\n",
      "        [ 655.7573,   27.0302],\n",
      "        [ 465.7607,   25.9375],\n",
      "        [ 550.9976,   22.3585],\n",
      "        [ 343.3804,   26.1803],\n",
      "        [ 714.5381,   34.6716],\n",
      "        [ 405.9974,   35.1967],\n",
      "        [ 425.4626,   23.0467],\n",
      "        [ 393.1031,   24.7206],\n",
      "        [ 470.9244,   33.0639],\n",
      "        [1589.9913,   89.2167],\n",
      "        [ 992.0015,  123.0050],\n",
      "        [ 803.9841,   55.5124]], grad_fn=<AddmmBackward0>)\n",
      "resultado objetivo:\n",
      "tensor([[ 635.0000,   37.4000],\n",
      "        [ 541.0000,  178.0000],\n",
      "        [ 549.0000,   71.6000],\n",
      "        [ 352.0000,   38.5000],\n",
      "        [ 359.0000,   28.5000],\n",
      "        [ 754.0000,  147.0000],\n",
      "        [ 362.0000,   52.6000],\n",
      "        [ 973.0000,   49.4000],\n",
      "        [ 514.0000,   23.6000],\n",
      "        [ 526.0000,   29.2000],\n",
      "        [1260.0000,  105.0000],\n",
      "        [ 814.0000,   32.0000],\n",
      "        [ 452.0000,   22.0000],\n",
      "        [1940.0000,   78.2000],\n",
      "        [ 332.0000,   27.1000],\n",
      "        [ 421.0000,   29.0000],\n",
      "        [ 656.0000,   27.6000],\n",
      "        [ 465.0000,   24.9000],\n",
      "        [ 551.0000,   22.4000],\n",
      "        [ 343.0000,   25.0000],\n",
      "        [ 714.0000,   33.1000],\n",
      "        [ 406.0000,   35.1000],\n",
      "        [ 425.0000,   22.1000],\n",
      "        [ 394.0000,   25.9000],\n",
      "        [ 471.0000,   32.8000],\n",
      "        [1590.0000,   89.3000],\n",
      "        [ 992.0000,  123.0000],\n",
      "        [ 804.0000,   55.5000]])\n",
      "error: 2149.178466796875\n",
      "salida RN:\n",
      "tensor([[ 435.4289,   44.9247],\n",
      "        [ 475.3303,   19.4697],\n",
      "        [ 651.7947,   62.8108],\n",
      "        [ 484.3083,   92.8044],\n",
      "        [ 334.7578,   29.2914],\n",
      "        [1280.1643,   47.7039],\n",
      "        [ 540.4757,   37.0168],\n",
      "        [ 599.4392,   28.4340]], grad_fn=<AddmmBackward0>)\n",
      "resultado objetivo:\n",
      "tensor([[ 427.0000,   46.9000],\n",
      "        [ 496.0000,   20.6000],\n",
      "        [ 690.0000,   62.6000],\n",
      "        [ 403.0000,   85.4000],\n",
      "        [ 329.0000,   31.4000],\n",
      "        [1120.0000,   43.9000],\n",
      "        [ 544.0000,   43.3000],\n",
      "        [ 599.0000,   27.4000]])\n"
     ]
    }
   ],
   "source": [
    "###############################################\n",
    "############# TESTING STAGE ##################\n",
    "###############################################\n",
    "# Normalize X_test\n",
    "#         X_test_reduced = X_test[:,1:] # Skip the first temperature\n",
    "if normalization_bool:\n",
    "    normalized_X = normalize(X_train, min_X, max_X)\n",
    "    normalized_Xtest = normalize(X_test, min_X, max_X)\n",
    "else:\n",
    "    normalized_X = X_train\n",
    "    normalized_Xtest = X_test\n",
    "\n",
    "# Convert into torch x_test and y_test\n",
    "num_cols_X = X_train.shape[1]\n",
    "num_cols_Y = Y_train.shape[1]\n",
    "x_res = torch.from_numpy(normalized_X.reshape(-1,num_cols_X)).float().to(device)\n",
    "y_res = torch.from_numpy(Y_train.reshape(-1,num_cols_Y)).float().to(device)\n",
    "x_res_test = torch.from_numpy(normalized_Xtest.reshape(-1,num_cols_X)).float().to(device)\n",
    "y_res_test = torch.from_numpy(Y_test.reshape(-1,num_cols_Y)).float().to(device)\n",
    "\n",
    "\n",
    "# Compute y predict and loss function\n",
    "RedNodal[0].eval()\n",
    "y_nn_res = RedNodal[0](x_res)\n",
    "funcion_error = torch.nn.MSELoss(reduction ='mean')\n",
    "loss_res = funcion_error(y_nn_res, y_res).to('cpu').detach().numpy()  # Notice the order: NN Pred first and then actual value\n",
    "print(\"error: {}\".format(loss_res))\n",
    "print(\"salida RN:\")\n",
    "print(y_nn_res)\n",
    "print(\"resultado objetivo:\")\n",
    "print(y_res)\n",
    "\n",
    "y_nn_res_test = RedNodal[0](x_res_test)\n",
    "loss_res_test = funcion_error(y_nn_res_test, y_res_test).to('cpu').detach().numpy()  # Notice the order: NN Pred first and then actual value\n",
    "print(\"error: {}\".format(loss_res_test))\n",
    "print(\"salida RN:\")\n",
    "print(y_nn_res_test)\n",
    "print(\"resultado objetivo:\")\n",
    "print(y_res_test)"
   ]
  },
  {
   "cell_type": "markdown",
   "id": "3836280f",
   "metadata": {},
   "source": [
    "## CON ESTO LOGRAMOS IMPRIMIR LOS BIASES Y PESOS!!"
   ]
  },
  {
   "cell_type": "code",
   "execution_count": 108,
   "id": "e983a3cb",
   "metadata": {},
   "outputs": [
    {
     "data": {
      "text/plain": [
       "array([[0.3 , 0.08],\n",
       "       [0.7 , 0.15],\n",
       "       [0.4 , 0.05],\n",
       "       [0.2 , 0.05],\n",
       "       [0.2 , 0.13],\n",
       "       [0.7 , 0.05],\n",
       "       [0.4 , 0.08],\n",
       "       [0.6 , 0.1 ]])"
      ]
     },
     "execution_count": 108,
     "metadata": {},
     "output_type": "execute_result"
    }
   ],
   "source": [
    "normalized_Xtest\n",
    "x_res_test\n",
    "# y_nn_res_test\n",
    "X_test\n",
    "# X_train"
   ]
  },
  {
   "cell_type": "code",
   "execution_count": 79,
   "id": "f7db24ff",
   "metadata": {},
   "outputs": [],
   "source": [
    "# Pick the first num data trainig samples for X and Y\n",
    "# parametros=RedNodal[2].named_parameters()\n",
    "# type(parametros)\n",
    "# dir(parametros)\n",
    "pesos=[]\n",
    "biases=[]\n",
    "len(RedNodal[0])\n",
    "RedNodal[0].eval()\n",
    "for layer in RedNodal[0].children():\n",
    "    if isinstance(layer, nn.Linear):\n",
    "        pesos.append(layer.state_dict()['weight'])\n",
    "        biases.append(layer.state_dict()['bias'])\n",
    "        \n",
    "for i in range(len(pesos)):\n",
    "    pd.DataFrame(pesos[i].detach().numpy()).to_csv('pesos_{}.csv'.format(i))\n",
    "    pd.DataFrame(biases[i].detach().numpy()).to_csv('biases_{}.csv'.format(i))\n",
    "#       pd.DataFrame(pesos[i].detach().numpy()).to_csv('pesos_{}.csv'.format(i))\n",
    "\n",
    "# for idx, m in enumerate(RedNodal[0].modules()):\n",
    "#     print(idx, ' ', type(m))\n",
    "#     print(m.parameters)\n",
    "\n",
    "#     print(idx, '->', m.weigth)\n",
    "#     pesos.append(RedNodal[0][i+1].weight)\n",
    "# #     biases.append(RedNodal[0][i+1].bias)\n"
   ]
  },
  {
   "cell_type": "code",
   "execution_count": 36,
   "id": "b5e91a0a",
   "metadata": {},
   "outputs": [
    {
     "data": {
      "text/plain": [
       "generator"
      ]
     },
     "execution_count": 36,
     "metadata": {},
     "output_type": "execute_result"
    }
   ],
   "source": [
    "type(RedNodal[0].children())"
   ]
  },
  {
   "cell_type": "markdown",
   "id": "5b36cf8c",
   "metadata": {},
   "source": [
    "## Train and Test loss vs num epochs normalized"
   ]
  },
  {
   "cell_type": "code",
   "execution_count": null,
   "id": "be5c4c43",
   "metadata": {},
   "outputs": [],
   "source": [
    "# Cases to plot\n",
    "num_data_training_rand = np.array([30, 100, 400])\n",
    "\n",
    "# plot params \n",
    "label_size = 18\n",
    "epoch_lim_axis = 3000\n",
    "error_lim = 1e-6\n",
    "## Make a subplot with 2 losses\n",
    "fig, ax = plt.subplots(1, 2, figsize=(15, 7))\n",
    "\n",
    "## Training loss\n",
    "for num_data_training_plot_case in num_data_training_rand:\n",
    "    index_ndata = np.where(nun_data_training == num_data_training_plot_case)\n",
    "    label = \"{} samples\".format(num_data_training_plot_case)     \n",
    "    ax[0].plot(range(num_epochs), loss_train[index_ndata[0][0],:], label=label)\n",
    "\n",
    "ax[0].legend(loc='best', prop={'size': .8*label_size})\n",
    "ax[0].set_xlabel('# Epoch', fontsize = label_size)\n",
    "ax[0].set_ylabel(r'$log_{10}$(train loss)', fontsize = label_size)\n",
    "ax[0].set_yscale('log')\n",
    "ax[0].grid(True, which=\"both\", ls=\"-\")\n",
    "ax[0].set_xlim(0, epoch_lim_axis)\n",
    "ax[0].tick_params(axis='both', which='major', labelsize=label_size)\n",
    "\n",
    "## Training loss\n",
    "for num_data_training_plot_case in num_data_training_rand:\n",
    "    index_ndata = np.where(nun_data_training == num_data_training_plot_case)\n",
    "    label = \"{} samples\".format(num_data_training_plot_case)     \n",
    "    ax[1].plot(range(num_epochs), loss_test[index_ndata[0][0],:], label=label)\n",
    "\n",
    "ax[1].legend(loc='best', prop={'size': .8*label_size})\n",
    "ax[1].set_xlabel('# Epoch', fontsize = label_size)\n",
    "ax[1].set_ylabel(r'$log_{10}$(test loss)', fontsize = label_size)\n",
    "ax[1].set_yscale('log')\n",
    "ax[1].grid(True, which=\"both\", ls=\"-\")\n",
    "ax[1].set_xlim(0, epoch_lim_axis)\n",
    "ax[1].tick_params(axis='both', which='major', labelsize=label_size)\n",
    "    \n",
    "\n",
    "path_fig = './../../figures/PINN/loss_vs_epoch.png'\n",
    "fig.savefig(path_fig, bbox_inches='tight')\n",
    "plt.show()\n"
   ]
  },
  {
   "cell_type": "markdown",
   "id": "39b75abe",
   "metadata": {},
   "source": [
    "## Test error vs number of data training samples"
   ]
  },
  {
   "cell_type": "code",
   "execution_count": null,
   "id": "1361a1af",
   "metadata": {
    "scrolled": true
   },
   "outputs": [],
   "source": [
    "print(loss_train[:,-10:].shape)\n",
    "label_size = 12\n",
    "plt.plot(nun_data_training, loss_train[:,-10:].mean(axis = 1), label=\"Train error\")\n",
    "plt.plot(nun_data_training, loss_test[:,-10:].mean(axis = 1), label=\"Test error\")\n",
    "plt.legend(loc='best', prop={'size': 12})\n",
    "plt.xlabel('# training samples', fontsize = label_size)\n",
    "plt.yscale('log')\n",
    "plt.ylabel(r'$log_{10}$(MSE)', fontsize = label_size)\n",
    "plt.grid(True, which=\"both\", ls=\"-\")\n",
    "plt.legend(loc='best', prop={'size': .8*label_size})\n",
    "plt.tick_params(axis='both', which='major', labelsize=label_size)\n",
    "\n",
    "\n",
    "path_fig = './../../figures/PINN/test_train_error.png'\n",
    "fig.savefig(path_fig, bbox_inches='tight')\n",
    "plt.show()"
   ]
  },
  {
   "cell_type": "markdown",
   "id": "ca478ee9",
   "metadata": {},
   "source": [
    "## Elapsed time vs num data trainig "
   ]
  },
  {
   "cell_type": "code",
   "execution_count": null,
   "id": "f7d2cc5d",
   "metadata": {
    "scrolled": true
   },
   "outputs": [],
   "source": [
    "plt.plot(nun_data_training, elapsed_time_cpu, label = 'CPU')\n",
    "plt.plot(nun_data_training, elapsed_time_gpu, label = 'GPU')\n",
    "plt.legend(loc='upper right', prop={'size': 6})\n",
    "plt.yscale('log')\n",
    "plt.xlabel('# training samples')\n",
    "plt.legend(loc='best', prop={'size': .5*label_size})\n",
    "plt.ylabel(r'$log_{10}$(training elapsed time [s])')\n",
    "plt.grid(True, which=\"both\", ls=\"-\")\n",
    "path_fig = './../../figures/PINN/exec_time.png'\n",
    "fig.savefig(path_fig, bbox_inches='tight')\n",
    "\n",
    "\n",
    "\n",
    "plt.show()"
   ]
  },
  {
   "cell_type": "markdown",
   "id": "f5f4daaf",
   "metadata": {},
   "source": [
    "## Train the model for different number of hidden layers "
   ]
  },
  {
   "cell_type": "code",
   "execution_count": null,
   "id": "b0e75329",
   "metadata": {
    "scrolled": true
   },
   "outputs": [],
   "source": [
    "# range for number of data training\n",
    "num_hidden_layers_range = range(2,20,4)\n",
    "\n",
    "# selected device\n",
    "device = 'cpu'\n",
    "\n",
    "# bolean to normalize\n",
    "normalize_bool = True\n",
    "\n",
    "# boolean to generate gifs\n",
    "generate_gif = False\n",
    "\n",
    "# model hyper-params\n",
    "num_data_training = 400\n",
    "\n",
    "# result arrays to be filled\n",
    "loss_test_arch = np.zeros((len(num_hidden_layers_range), num_epochs))\n",
    "loss_train_arch = np.zeros_like(loss_test_arch)\n",
    "elapsed_time = np.zeros(len(num_hidden_layers_range))\n",
    "\n",
    "for i,num_hidden_layers in enumerate(num_hidden_layers_range):\n",
    "    loss_test_arch[i,:], loss_train_arch[i,:], elapsed_time[i] = train_test_model(\n",
    "        num_data_training, num_of_neurons, num_of_hidden_layers, num_epochs, lr,\n",
    "        Theta_train, Y_train, Theta_test, Y_test, min_X, max_X,\n",
    "        device, plot_gif_bool, normalization_bool)   "
   ]
  },
  {
   "cell_type": "markdown",
   "id": "84463581",
   "metadata": {},
   "source": [
    "## Num of hidden layers vs errors (test, train)"
   ]
  },
  {
   "cell_type": "code",
   "execution_count": null,
   "id": "bd649769",
   "metadata": {},
   "outputs": [],
   "source": [
    "plt.plot(num_hidden_layers_range, loss_test_arch[:,-1], label=\"Test error\")\n",
    "plt.plot(num_hidden_layers_range, loss_train_arch[:,-1], label=\"Train error\")\n",
    "plt.xticks(num_hidden_layers_range)  # Set label locations.\n",
    "plt.legend(loc='best', prop={'size': 12})\n",
    "plt.xlabel('# hidden layers')\n",
    "plt.yscale('log')\n",
    "plt.ylabel(r'$log_{10}$(MSE)')\n",
    "plt.grid(True, which=\"both\", ls=\"-\")\n",
    "path_fig = './../../figures/PINN/hiddden_layer_analysis.png'\n",
    "fig.savefig(path_fig, bbox_inches='tight')\n",
    "\n",
    "plt.show()"
   ]
  }
 ],
 "metadata": {
  "kernelspec": {
   "display_name": "Python 3 (ipykernel)",
   "language": "python",
   "name": "python3"
  },
  "language_info": {
   "codemirror_mode": {
    "name": "ipython",
    "version": 3
   },
   "file_extension": ".py",
   "mimetype": "text/x-python",
   "name": "python",
   "nbconvert_exporter": "python",
   "pygments_lexer": "ipython3",
   "version": "3.9.13"
  },
  "vscode": {
   "interpreter": {
    "hash": "e7370f93d1d0cde622a1f8e1c04877d8463912d04d973331ad4851f04de6915a"
   }
  }
 },
 "nbformat": 4,
 "nbformat_minor": 5
}
